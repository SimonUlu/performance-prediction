{
 "cells": [
  {
   "cell_type": "markdown",
   "metadata": {},
   "source": [
    "# Import Statements"
   ]
  },
  {
   "cell_type": "code",
   "execution_count": 1,
   "metadata": {},
   "outputs": [],
   "source": [
    "import pandas as pd\n",
    "from sklearn.model_selection import train_test_split\n",
    "from sklearn.linear_model import LinearRegression\n",
    "from sklearn.metrics import mean_squared_error"
   ]
  },
  {
   "cell_type": "markdown",
   "metadata": {},
   "source": [
    "# Daten einlesen und vorbereiten"
   ]
  },
  {
   "cell_type": "code",
   "execution_count": 2,
   "metadata": {},
   "outputs": [
    {
     "ename": "ParserError",
     "evalue": "Error tokenizing data. C error: Expected 47 fields in line 187, saw 50\n",
     "output_type": "error",
     "traceback": [
      "\u001b[0;31m---------------------------------------------------------------------------\u001b[0m",
      "\u001b[0;31mParserError\u001b[0m                               Traceback (most recent call last)",
      "Cell \u001b[0;32mIn[2], line 1\u001b[0m\n\u001b[0;32m----> 1\u001b[0m df \u001b[38;5;241m=\u001b[39m \u001b[43mpd\u001b[49m\u001b[38;5;241;43m.\u001b[39;49m\u001b[43mread_csv\u001b[49m\u001b[43m(\u001b[49m\u001b[38;5;124;43m'\u001b[39;49m\u001b[38;5;124;43m./../../timeseries/merged/merged.csv\u001b[39;49m\u001b[38;5;124;43m'\u001b[39;49m\u001b[43m)\u001b[49m \n\u001b[1;32m      3\u001b[0m df \u001b[38;5;241m=\u001b[39m df\u001b[38;5;241m.\u001b[39mdrop(\u001b[38;5;124m'\u001b[39m\u001b[38;5;124mTimestamp\u001b[39m\u001b[38;5;124m'\u001b[39m, axis\u001b[38;5;241m=\u001b[39m\u001b[38;5;241m1\u001b[39m)\n\u001b[1;32m      5\u001b[0m X \u001b[38;5;241m=\u001b[39m df\u001b[38;5;241m.\u001b[39mdrop(\u001b[38;5;124m'\u001b[39m\u001b[38;5;124mDurchschnittliche Antwortzeitintervalle\u001b[39m\u001b[38;5;124m'\u001b[39m, axis\u001b[38;5;241m=\u001b[39m\u001b[38;5;241m1\u001b[39m) \n",
      "File \u001b[0;32m~/Desktop/masterarbeit-cluster/performance-prediction/venv/lib/python3.12/site-packages/pandas/io/parsers/readers.py:1026\u001b[0m, in \u001b[0;36mread_csv\u001b[0;34m(filepath_or_buffer, sep, delimiter, header, names, index_col, usecols, dtype, engine, converters, true_values, false_values, skipinitialspace, skiprows, skipfooter, nrows, na_values, keep_default_na, na_filter, verbose, skip_blank_lines, parse_dates, infer_datetime_format, keep_date_col, date_parser, date_format, dayfirst, cache_dates, iterator, chunksize, compression, thousands, decimal, lineterminator, quotechar, quoting, doublequote, escapechar, comment, encoding, encoding_errors, dialect, on_bad_lines, delim_whitespace, low_memory, memory_map, float_precision, storage_options, dtype_backend)\u001b[0m\n\u001b[1;32m   1013\u001b[0m kwds_defaults \u001b[38;5;241m=\u001b[39m _refine_defaults_read(\n\u001b[1;32m   1014\u001b[0m     dialect,\n\u001b[1;32m   1015\u001b[0m     delimiter,\n\u001b[0;32m   (...)\u001b[0m\n\u001b[1;32m   1022\u001b[0m     dtype_backend\u001b[38;5;241m=\u001b[39mdtype_backend,\n\u001b[1;32m   1023\u001b[0m )\n\u001b[1;32m   1024\u001b[0m kwds\u001b[38;5;241m.\u001b[39mupdate(kwds_defaults)\n\u001b[0;32m-> 1026\u001b[0m \u001b[38;5;28;01mreturn\u001b[39;00m \u001b[43m_read\u001b[49m\u001b[43m(\u001b[49m\u001b[43mfilepath_or_buffer\u001b[49m\u001b[43m,\u001b[49m\u001b[43m \u001b[49m\u001b[43mkwds\u001b[49m\u001b[43m)\u001b[49m\n",
      "File \u001b[0;32m~/Desktop/masterarbeit-cluster/performance-prediction/venv/lib/python3.12/site-packages/pandas/io/parsers/readers.py:626\u001b[0m, in \u001b[0;36m_read\u001b[0;34m(filepath_or_buffer, kwds)\u001b[0m\n\u001b[1;32m    623\u001b[0m     \u001b[38;5;28;01mreturn\u001b[39;00m parser\n\u001b[1;32m    625\u001b[0m \u001b[38;5;28;01mwith\u001b[39;00m parser:\n\u001b[0;32m--> 626\u001b[0m     \u001b[38;5;28;01mreturn\u001b[39;00m \u001b[43mparser\u001b[49m\u001b[38;5;241;43m.\u001b[39;49m\u001b[43mread\u001b[49m\u001b[43m(\u001b[49m\u001b[43mnrows\u001b[49m\u001b[43m)\u001b[49m\n",
      "File \u001b[0;32m~/Desktop/masterarbeit-cluster/performance-prediction/venv/lib/python3.12/site-packages/pandas/io/parsers/readers.py:1923\u001b[0m, in \u001b[0;36mTextFileReader.read\u001b[0;34m(self, nrows)\u001b[0m\n\u001b[1;32m   1916\u001b[0m nrows \u001b[38;5;241m=\u001b[39m validate_integer(\u001b[38;5;124m\"\u001b[39m\u001b[38;5;124mnrows\u001b[39m\u001b[38;5;124m\"\u001b[39m, nrows)\n\u001b[1;32m   1917\u001b[0m \u001b[38;5;28;01mtry\u001b[39;00m:\n\u001b[1;32m   1918\u001b[0m     \u001b[38;5;66;03m# error: \"ParserBase\" has no attribute \"read\"\u001b[39;00m\n\u001b[1;32m   1919\u001b[0m     (\n\u001b[1;32m   1920\u001b[0m         index,\n\u001b[1;32m   1921\u001b[0m         columns,\n\u001b[1;32m   1922\u001b[0m         col_dict,\n\u001b[0;32m-> 1923\u001b[0m     ) \u001b[38;5;241m=\u001b[39m \u001b[38;5;28;43mself\u001b[39;49m\u001b[38;5;241;43m.\u001b[39;49m\u001b[43m_engine\u001b[49m\u001b[38;5;241;43m.\u001b[39;49m\u001b[43mread\u001b[49m\u001b[43m(\u001b[49m\u001b[43m  \u001b[49m\u001b[38;5;66;43;03m# type: ignore[attr-defined]\u001b[39;49;00m\n\u001b[1;32m   1924\u001b[0m \u001b[43m        \u001b[49m\u001b[43mnrows\u001b[49m\n\u001b[1;32m   1925\u001b[0m \u001b[43m    \u001b[49m\u001b[43m)\u001b[49m\n\u001b[1;32m   1926\u001b[0m \u001b[38;5;28;01mexcept\u001b[39;00m \u001b[38;5;167;01mException\u001b[39;00m:\n\u001b[1;32m   1927\u001b[0m     \u001b[38;5;28mself\u001b[39m\u001b[38;5;241m.\u001b[39mclose()\n",
      "File \u001b[0;32m~/Desktop/masterarbeit-cluster/performance-prediction/venv/lib/python3.12/site-packages/pandas/io/parsers/c_parser_wrapper.py:234\u001b[0m, in \u001b[0;36mCParserWrapper.read\u001b[0;34m(self, nrows)\u001b[0m\n\u001b[1;32m    232\u001b[0m \u001b[38;5;28;01mtry\u001b[39;00m:\n\u001b[1;32m    233\u001b[0m     \u001b[38;5;28;01mif\u001b[39;00m \u001b[38;5;28mself\u001b[39m\u001b[38;5;241m.\u001b[39mlow_memory:\n\u001b[0;32m--> 234\u001b[0m         chunks \u001b[38;5;241m=\u001b[39m \u001b[38;5;28;43mself\u001b[39;49m\u001b[38;5;241;43m.\u001b[39;49m\u001b[43m_reader\u001b[49m\u001b[38;5;241;43m.\u001b[39;49m\u001b[43mread_low_memory\u001b[49m\u001b[43m(\u001b[49m\u001b[43mnrows\u001b[49m\u001b[43m)\u001b[49m\n\u001b[1;32m    235\u001b[0m         \u001b[38;5;66;03m# destructive to chunks\u001b[39;00m\n\u001b[1;32m    236\u001b[0m         data \u001b[38;5;241m=\u001b[39m _concatenate_chunks(chunks)\n",
      "File \u001b[0;32mparsers.pyx:838\u001b[0m, in \u001b[0;36mpandas._libs.parsers.TextReader.read_low_memory\u001b[0;34m()\u001b[0m\n",
      "File \u001b[0;32mparsers.pyx:905\u001b[0m, in \u001b[0;36mpandas._libs.parsers.TextReader._read_rows\u001b[0;34m()\u001b[0m\n",
      "File \u001b[0;32mparsers.pyx:874\u001b[0m, in \u001b[0;36mpandas._libs.parsers.TextReader._tokenize_rows\u001b[0;34m()\u001b[0m\n",
      "File \u001b[0;32mparsers.pyx:891\u001b[0m, in \u001b[0;36mpandas._libs.parsers.TextReader._check_tokenize_status\u001b[0;34m()\u001b[0m\n",
      "File \u001b[0;32mparsers.pyx:2061\u001b[0m, in \u001b[0;36mpandas._libs.parsers.raise_parser_error\u001b[0;34m()\u001b[0m\n",
      "\u001b[0;31mParserError\u001b[0m: Error tokenizing data. C error: Expected 47 fields in line 187, saw 50\n"
     ]
    }
   ],
   "source": [
    "df = pd.read_csv('./../../timeseries/merged/merged.csv') \n",
    "\n",
    "df = df.drop('Timestamp', axis=1)\n",
    "\n",
    "X = df.drop('Durchschnittliche Antwortzeitintervalle', axis=1) \n",
    "y = df['Durchschnittliche Antwortzeitintervalle'] \n",
    "\n",
    "X_train, X_test, y_train, y_test = train_test_split(X, y, test_size=0.2, random_state=42)\n"
   ]
  },
  {
   "cell_type": "markdown",
   "metadata": {},
   "source": []
  },
  {
   "cell_type": "code",
   "execution_count": 3,
   "metadata": {},
   "outputs": [
    {
     "name": "stdout",
     "output_type": "stream",
     "text": [
      "Vergleich der Felder:\n",
      "Zeile 1                                            | Zeile 2                                           \n",
      "---------------------------------------------------------------------------------------------------------\n",
      "high_low_i_o_read                                  | long_i_o_read                                     \n",
      "high_low_i_o_write                                 | long_i_o_write                                    \n",
      "high_low_memory                                    | long_memory                                       \n",
      "network_outgoing_pod_paymentservice                | network_outgoing_pod_loadgenerator.2              \n",
      "network_outgoing_pod_productcatalogservice         | network_outgoing_pod_paymentservice               \n",
      "network_outgoing_pod_recommendationservice         | network_outgoing_pod_productcatalogservice        \n",
      "network_outgoing_pod_redis                         | network_outgoing_pod_recommendationservice        \n",
      "network_outgoing_pod_shippingservice               | network_outgoing_pod_redis                        \n",
      "network_outgoing_system                            | network_outgoing_pod_shippingservice              \n",
      "cpu_pod_adservice                                  | network_outgoing_system                           \n",
      "cpu_pod_cartservice                                | cpu_pod_adservice                                 \n",
      "cpu_pod_checkoutservice                            | cpu_pod_cartservice                               \n",
      "cpu_pod_currencyservice                            | cpu_pod_checkoutservice                           \n",
      "cpu_pod_emailservice                               | cpu_pod_currencyservice                           \n",
      "cpu_pod_frontend                                   | cpu_pod_emailservice                              \n",
      "cpu_pod_loadgenerator                              | cpu_pod_frontend                                  \n",
      "cpu_pod_loadgenerator.1                            | cpu_pod_loadgenerator                             \n",
      "cpu_pod_paymentservice                             | cpu_pod_loadgenerator.1                           \n",
      "cpu_pod_productcatalogservice                      | cpu_pod_loadgenerator.2                           \n",
      "cpu_pod_recommendationservice                      | cpu_pod_paymentservice                            \n",
      "cpu_pod_redis                                      | cpu_pod_productcatalogservice                     \n",
      "cpu_pod_shippingservice                            | cpu_pod_recommendationservice                     \n",
      "cpu_system                                         | cpu_pod_redis                                     \n",
      "faster_pod_restart_{container=\"main\"               | cpu_pod_shippingservice                           \n",
      " instance=\"kube\"                                   | cpu_system                                        \n",
      "faster_pod_restart_{container=\"main\"               | long_pod_restart                                  \n",
      " instance=\"kube.1\"                                 | faster_pod_restart_{container=\"main\"              \n",
      "faster_pod_restart_{container=\"redis\"              |  instance=\"kube\"                                  \n",
      " instance=\"kube\"                                   | faster_pod_restart_{container=\"main\"              \n",
      "faster_pod_restart_{container=\"server\"             |  instance=\"kube.1\"                                \n",
      " instance=\"kube\"                                   | faster_pod_restart_{container=\"redis\"             \n",
      "faster_pod_restart_{container=\"server\"             |  instance=\"kube\"                                  \n",
      " instance=\"kube.1\"                                 | faster_pod_restart_{container=\"server\"            \n",
      "faster_pod_restart_{container=\"server\"             |  instance=\"kube\"                                  \n",
      " instance=\"kube.2\"                                 | faster_pod_restart_{container=\"server\"            \n",
      "faster_pod_restart_{container=\"server\"             |  instance=\"kube.1\"                                \n",
      " instance=\"kube.3\"                                 | faster_pod_restart_{container=\"server\"            \n",
      "faster_pod_restart_{container=\"server\"             |  instance=\"kube.2\"                                \n",
      " instance=\"kube.4\"                                 | faster_pod_restart_{container=\"server\"            \n",
      "faster_pod_restart_{container=\"server\"             |  instance=\"kube.3\"                                \n",
      " instance=\"kube.5\"                                 | faster_pod_restart_{container=\"server\"            \n",
      "faster_pod_restart_{container=\"server\"             |  instance=\"kube.4\"                                \n",
      " instance=\"kube.6\"                                 | faster_pod_restart_{container=\"server\"            \n",
      "faster_pod_restart_{container=\"server\"             |  instance=\"kube.5\"                                \n",
      " instance=\"kube.7\"                                 | faster_pod_restart_{container=\"server\"            \n",
      "faster_pod_restart_{container=\"server\"             |  instance=\"kube.6\"                                \n",
      " instance=\"kube.8\"                                 | faster_pod_restart_{container=\"server\"            \n",
      "faster_pod_restart_{container=\"server\"             |  instance=\"kube.7\"                                \n",
      " instance=\"kube.9\"                                 | faster_pod_restart_{container=\"server\"            \n",
      "                                                   |  instance=\"kube.8\"                                \n",
      "                                                   | faster_pod_restart_{container=\"server\"            \n",
      "                                                   |  instance=\"kube.9\"                                \n",
      "                                                   | long_pod_restart                                  \n",
      "\n",
      "Zusätzliche Felder in Zeile 2:\n",
      "-  instance=\"kube.8\"\n",
      "- faster_pod_restart_{container=\"server\"\n",
      "-  instance=\"kube.9\"\n",
      "- long_pod_restart\n"
     ]
    }
   ],
   "source": [
    "# Die beiden Zeilen als Strings\n",
    "zeile1 = \"Timestamp,Requests je Sekunde,Durchschnittliche Antwortzeitintervalle,high_low_i_o_read,high_low_i_o_write,high_low_memory,network_outgoing_pod_adservice,network_outgoing_pod_cartservice,network_outgoing_pod_checkoutservice,network_outgoing_pod_currencyservice,network_outgoing_pod_emailservice,network_outgoing_pod_frontend,network_outgoing_pod_loadgenerator,network_outgoing_pod_loadgenerator.1,network_outgoing_pod_paymentservice,network_outgoing_pod_productcatalogservice,network_outgoing_pod_recommendationservice,network_outgoing_pod_redis,network_outgoing_pod_shippingservice,network_outgoing_system,cpu_pod_adservice,cpu_pod_cartservice,cpu_pod_checkoutservice,cpu_pod_currencyservice,cpu_pod_emailservice,cpu_pod_frontend,cpu_pod_loadgenerator,cpu_pod_loadgenerator.1,cpu_pod_paymentservice,cpu_pod_productcatalogservice,cpu_pod_recommendationservice,cpu_pod_redis,cpu_pod_shippingservice,cpu_system,faster_pod_restart_{container=\\\"main\\\", instance=\\\"kube\\\",faster_pod_restart_{container=\\\"main\\\", instance=\\\"kube.1\\\",faster_pod_restart_{container=\\\"redis\\\", instance=\\\"kube\\\",faster_pod_restart_{container=\\\"server\\\", instance=\\\"kube\\\",faster_pod_restart_{container=\\\"server\\\", instance=\\\"kube.1\\\",faster_pod_restart_{container=\\\"server\\\", instance=\\\"kube.2\\\",faster_pod_restart_{container=\\\"server\\\", instance=\\\"kube.3\\\",faster_pod_restart_{container=\\\"server\\\", instance=\\\"kube.4\\\",faster_pod_restart_{container=\\\"server\\\", instance=\\\"kube.5\\\",faster_pod_restart_{container=\\\"server\\\", instance=\\\"kube.6\\\",faster_pod_restart_{container=\\\"server\\\", instance=\\\"kube.7\\\",faster_pod_restart_{container=\\\"server\\\", instance=\\\"kube.8\\\",faster_pod_restart_{container=\\\"server\\\", instance=\\\"kube.9\\\"\"\n",
    "zeile2 = \"Timestamp,Requests je Sekunde,Durchschnittliche Antwortzeitintervalle,long_i_o_read,long_i_o_write,long_memory,network_outgoing_pod_adservice,network_outgoing_pod_cartservice,network_outgoing_pod_checkoutservice,network_outgoing_pod_currencyservice,network_outgoing_pod_emailservice,network_outgoing_pod_frontend,network_outgoing_pod_loadgenerator,network_outgoing_pod_loadgenerator.1,network_outgoing_pod_loadgenerator.2,network_outgoing_pod_paymentservice,network_outgoing_pod_productcatalogservice,network_outgoing_pod_recommendationservice,network_outgoing_pod_redis,network_outgoing_pod_shippingservice,network_outgoing_system,cpu_pod_adservice,cpu_pod_cartservice,cpu_pod_checkoutservice,cpu_pod_currencyservice,cpu_pod_emailservice,cpu_pod_frontend,cpu_pod_loadgenerator,cpu_pod_loadgenerator.1,cpu_pod_loadgenerator.2,cpu_pod_paymentservice,cpu_pod_productcatalogservice,cpu_pod_recommendationservice,cpu_pod_redis,cpu_pod_shippingservice,cpu_system,long_pod_restart,faster_pod_restart_{container=\\\"main\\\", instance=\\\"kube\\\",faster_pod_restart_{container=\\\"main\\\", instance=\\\"kube.1\\\",faster_pod_restart_{container=\\\"redis\\\", instance=\\\"kube\\\",faster_pod_restart_{container=\\\"server\\\", instance=\\\"kube\\\",faster_pod_restart_{container=\\\"server\\\", instance=\\\"kube.1\\\",faster_pod_restart_{container=\\\"server\\\", instance=\\\"kube.2\\\",faster_pod_restart_{container=\\\"server\\\", instance=\\\"kube.3\\\",faster_pod_restart_{container=\\\"server\\\", instance=\\\"kube.4\\\",faster_pod_restart_{container=\\\"server\\\", instance=\\\"kube.5\\\",faster_pod_restart_{container=\\\"server\\\", instance=\\\"kube.6\\\",faster_pod_restart_{container=\\\"server\\\", instance=\\\"kube.7\\\",faster_pod_restart_{container=\\\"server\\\", instance=\\\"kube.8\\\",faster_pod_restart_{container=\\\"server\\\", instance=\\\"kube.9\\\",long_pod_restart\"\n",
    "\n",
    "# Die Zeilen in Listen umwandeln\n",
    "felder_zeile1 = zeile1.split(',')\n",
    "felder_zeile2 = zeile2.split(',')\n",
    "\n",
    "# Die Länge der längsten Zeile bestimmen\n",
    "max_len = max(len(felder_zeile1), len(felder_zeile2))\n",
    "\n",
    "print(\"Vergleich der Felder:\")\n",
    "print(f\"{'Zeile 1':<50} | {'Zeile 2':<50}\")\n",
    "print(\"-\" * 105)\n",
    "\n",
    "# Durch die Felder iterieren und vergleichen\n",
    "for i in range(max_len):\n",
    "    feld1 = felder_zeile1[i] if i < len(felder_zeile1) else \"\"\n",
    "    feld2 = felder_zeile2[i] if i < len(felder_zeile2) else \"\"\n",
    "    if feld1 != feld2:  # Nur Unterschiede anzeigen\n",
    "        print(f\"{feld1:<50} | {feld2:<50}\")\n",
    "\n",
    "# Hinweis auf zusätzliche Felder in Zeile 2\n",
    "if len(felder_zeile2) > len(felder_zeile1):\n",
    "    print(\"\\nZusätzliche Felder in Zeile 2:\")\n",
    "    for i in range(len(felder_zeile1), len(felder_zeile2)):\n",
    "        print(f\"- {felder_zeile2[i]}\")"
   ]
  }
 ],
 "metadata": {
  "kernelspec": {
   "display_name": "venv",
   "language": "python",
   "name": "python3"
  },
  "language_info": {
   "codemirror_mode": {
    "name": "ipython",
    "version": 3
   },
   "file_extension": ".py",
   "mimetype": "text/x-python",
   "name": "python",
   "nbconvert_exporter": "python",
   "pygments_lexer": "ipython3",
   "version": "3.12.3"
  }
 },
 "nbformat": 4,
 "nbformat_minor": 2
}
