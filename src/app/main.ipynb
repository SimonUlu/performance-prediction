{
 "cells": [
  {
   "cell_type": "markdown",
   "metadata": {},
   "source": [
    "# Import Statements"
   ]
  },
  {
   "cell_type": "code",
   "execution_count": 3,
   "metadata": {},
   "outputs": [],
   "source": [
    "import pandas as pd\n",
    "from sklearn.model_selection import train_test_split\n",
    "from sklearn.linear_model import LinearRegression\n",
    "from sklearn.metrics import mean_squared_error"
   ]
  },
  {
   "cell_type": "markdown",
   "metadata": {},
   "source": [
    "# Daten einlesen und vorbereiten"
   ]
  },
  {
   "cell_type": "code",
   "execution_count": 19,
   "metadata": {},
   "outputs": [],
   "source": [
    "def bereinige_und_speichere_csv(input_csv):\n",
    "    # Lese das CSV ein\n",
    "    df = pd.read_csv(input_csv)\n",
    "    \n",
    "    # Finde alle Spalten, die 'loadgenerator.2' enthalten\n",
    "    spalten_zu_entfernen = [spalte for spalte in df.columns if '.1' in spalte]\n",
    "    \n",
    "    # Entferne diese Spalten aus dem DataFrame\n",
    "    df_bereinigt = df.drop(spalten_zu_entfernen, axis=1)\n",
    "    \n",
    "    # Speichere das bereinigte DataFrame am ursprünglichen Speicherort\n",
    "    df_bereinigt.to_csv(input_csv, index=False)\n",
    "\n",
    "# Ersetze \"dein_csv_pfad.csv\" mit dem Pfad zu deinem CSV\n",
    "bereinige_und_speichere_csv(\"./../../timeseries/merged/long-time/high/new.csv\")\n"
   ]
  },
  {
   "cell_type": "markdown",
   "metadata": {},
   "source": [
    "# Hilfscode um mehrere Spalten zu vergleichen"
   ]
  },
  {
   "cell_type": "code",
   "execution_count": 15,
   "metadata": {},
   "outputs": [
    {
     "name": "stdout",
     "output_type": "stream",
     "text": [
      "Vergleich der Spalten:\n",
      "CSV 1                                              | CSV 2                                             \n",
      "---------------------------------------------------------------------------------------------------------\n",
      "high_low_i_o_read                                  | medium_i_o_read                                   \n",
      "high_low_i_o_write                                 | medium_i_o_write                                  \n",
      "high_low_memory                                    | medium_memory                                     \n"
     ]
    }
   ],
   "source": [
    "# CSV-Dateien einlesen\n",
    "df1 = pd.read_csv('./../../timeseries/merged/constant-load/high_low/new.csv')\n",
    "df2 = pd.read_csv('./../../timeseries/merged/constant-load/medium/new.csv')\n",
    "\n",
    "# Spaltennamen der DataFrames extrahieren\n",
    "spalten_df1 = df1.columns.tolist()\n",
    "spalten_df2 = df2.columns.tolist()\n",
    "\n",
    "# Die Länge der längsten Spaltenliste bestimmen\n",
    "max_len = max(len(spalten_df1), len(spalten_df2))\n",
    "\n",
    "print(\"Vergleich der Spalten:\")\n",
    "print(f\"{'CSV 1':<50} | {'CSV 2':<50}\")\n",
    "print(\"-\" * 105)\n",
    "\n",
    "# Durch die Spalten iterieren und vergleichen\n",
    "for i in range(max_len):\n",
    "    spalte1 = spalten_df1[i] if i < len(spalten_df1) else \"\"\n",
    "    spalte2 = spalten_df2[i] if i < len(spalten_df2) else \"\"\n",
    "    if spalte1 != spalte2:  # Nur Unterschiede anzeigen\n",
    "        print(f\"{spalte1:<50} | {spalte2:<50}\")\n",
    "\n",
    "# Hinweis auf zusätzliche Spalten in CSV 2\n",
    "if len(spalten_df2) > len(spalten_df1):\n",
    "    print(\"\\nZusätzliche Spalten in CSV 2:\")\n",
    "    for i in range(len(spalten_df1), len(spalten_df2)):\n",
    "        print(f\"- {spalten_df2[i]}\")"
   ]
  }
 ],
 "metadata": {
  "kernelspec": {
   "display_name": "venv",
   "language": "python",
   "name": "python3"
  },
  "language_info": {
   "codemirror_mode": {
    "name": "ipython",
    "version": 3
   },
   "file_extension": ".py",
   "mimetype": "text/x-python",
   "name": "python",
   "nbconvert_exporter": "python",
   "pygments_lexer": "ipython3",
   "version": "3.12.3"
  }
 },
 "nbformat": 4,
 "nbformat_minor": 2
}
