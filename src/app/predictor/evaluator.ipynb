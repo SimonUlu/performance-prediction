{
 "cells": [
  {
   "cell_type": "markdown",
   "metadata": {},
   "source": [
    "## Import all needed models"
   ]
  },
  {
   "cell_type": "code",
   "execution_count": 1,
   "metadata": {},
   "outputs": [],
   "source": [
    "import os \n",
    "import sys\n",
    "import pandas as pd\n",
    "# Füge das übergeordnete Verzeichnis zum Python-Modulsuchpfad hinzu\n",
    "module_path = os.path.abspath(os.path.join('../..'))\n",
    "if module_path not in sys.path:\n",
    "    sys.path.append(module_path)\n",
    "src_path = os.path.abspath(os.path.join('../../..'))\n",
    "if src_path not in sys.path:\n",
    "    sys.path.append(src_path)\n",
    "input_file_path = \"./../../../timeseries/merged/combined_timeseries.csv\"\n",
    "prepared_input_file_path = \"./../../../timeseries/combined/combined_timeseries_final.csv\"\n",
    "\n",
    "from app.predictor.evaluation_models.ensemble.ensemble_regressors import RandomForestRegression, GradientBoostingRegression, SVRRegressor, XGBoostRegressor\n",
    "from app.predictor.evaluation_models.base_models.linear_regressor import LinearRegressor\n",
    "from app.predictor.evaluation_models.base_models.decision_tree_regression import DecisionTreeRegression\n",
    "from app.predictor.evaluation_models.neural_networks.networks import SequentialNetwork\n"
   ]
  },
  {
   "cell_type": "markdown",
   "metadata": {},
   "source": [
    "## Random Forest Regressor"
   ]
  },
  {
   "cell_type": "code",
   "execution_count": 2,
   "metadata": {},
   "outputs": [
    {
     "name": "stdout",
     "output_type": "stream",
     "text": [
      "MSE: 1093223.4305406464\n",
      "RMSE: 1045.573254507137\n",
      "MAE: 325.7182554919477\n",
      "0.4762531761520752\n",
      "R²-Score: 0.8099485496718166\n"
     ]
    }
   ],
   "source": [
    "rf = RandomForestRegression(filepath=input_file_path,n_estimators=100, random_state=42, max_depth=35, max_features=1.0, param_grid=None )\n",
    "\n",
    "rf.load_and_prepare_data(drop_features=False)\n",
    "\n",
    "rf.train_model()\n",
    "\n",
    "rf.evaluate_model()"
   ]
  },
  {
   "cell_type": "code",
   "execution_count": 3,
   "metadata": {},
   "outputs": [
    {
     "name": "stdout",
     "output_type": "stream",
     "text": [
      "MSE: 569326.5321878167\n",
      "RMSE: 754.5372967506753\n",
      "MAE: 246.07792892359095\n",
      "0.3454308439162892\n",
      "R²-Score: 0.9010254170100439\n"
     ]
    }
   ],
   "source": [
    "rf = RandomForestRegression(filepath=prepared_input_file_path,n_estimators=100, random_state=42, max_depth=35, max_features=1.0, param_grid=None )\n",
    "\n",
    "rf.load_and_prepare_data(drop_features=True)\n",
    "\n",
    "rf.train_model()\n",
    "\n",
    "rf.evaluate_model()"
   ]
  },
  {
   "cell_type": "markdown",
   "metadata": {},
   "source": [
    "## Linear Regressor"
   ]
  },
  {
   "cell_type": "code",
   "execution_count": 4,
   "metadata": {},
   "outputs": [
    {
     "name": "stdout",
     "output_type": "stream",
     "text": [
      "MSE: 5646970.105250319\n",
      "RMSE: 2376.335436181163\n",
      "MAE: 1176.612012112773\n",
      "3.509461247647412\n",
      "R²-Score: 0.018302363011039935\n"
     ]
    }
   ],
   "source": [
    "lr = LinearRegressor(filepath=prepared_input_file_path)\n",
    "\n",
    "lr.load_and_prepare_data(drop_features=True)\n",
    "\n",
    "lr.train_model()\n",
    "\n",
    "lr.evaluate_model()"
   ]
  },
  {
   "cell_type": "code",
   "execution_count": 5,
   "metadata": {},
   "outputs": [
    {
     "name": "stdout",
     "output_type": "stream",
     "text": [
      "MSE: 3308354.869544858\n",
      "RMSE: 1818.888360935013\n",
      "MAE: 939.041830735813\n",
      "2.569047815801366\n",
      "R²-Score: 0.424858977961751\n"
     ]
    }
   ],
   "source": [
    "lr = LinearRegressor(filepath=input_file_path)\n",
    "\n",
    "lr.load_and_prepare_data(drop_features=False)\n",
    "\n",
    "lr.train_model()\n",
    "\n",
    "lr.evaluate_model()"
   ]
  },
  {
   "cell_type": "markdown",
   "metadata": {},
   "source": [
    "## Decision Tree Regressor"
   ]
  },
  {
   "cell_type": "code",
   "execution_count": 2,
   "metadata": {},
   "outputs": [
    {
     "ename": "AttributeError",
     "evalue": "'DecisionTreeRegression' object has no attribute 'model'",
     "output_type": "error",
     "traceback": [
      "\u001b[0;31m---------------------------------------------------------------------------\u001b[0m",
      "\u001b[0;31mAttributeError\u001b[0m                            Traceback (most recent call last)",
      "Cell \u001b[0;32mIn[2], line 5\u001b[0m\n\u001b[1;32m      1\u001b[0m dt \u001b[38;5;241m=\u001b[39m DecisionTreeRegression(filepath\u001b[38;5;241m=\u001b[39mprepared_input_file_path)\n\u001b[1;32m      3\u001b[0m dt\u001b[38;5;241m.\u001b[39mload_and_prepare_data()\n\u001b[0;32m----> 5\u001b[0m \u001b[43mdt\u001b[49m\u001b[38;5;241;43m.\u001b[39;49m\u001b[43mtrain_model\u001b[49m\u001b[43m(\u001b[49m\u001b[43m)\u001b[49m\n\u001b[1;32m      7\u001b[0m dt\u001b[38;5;241m.\u001b[39mevaluate_model()\n",
      "File \u001b[0;32m~/Desktop/masterarbeit-cluster/performance-prediction/src/app/predictor/contracts/model.py:22\u001b[0m, in \u001b[0;36mModel.train_model\u001b[0;34m(self)\u001b[0m\n\u001b[1;32m     21\u001b[0m \u001b[38;5;28;01mdef\u001b[39;00m \u001b[38;5;21mtrain_model\u001b[39m(\u001b[38;5;28mself\u001b[39m):\n\u001b[0;32m---> 22\u001b[0m     \u001b[38;5;28;43mself\u001b[39;49m\u001b[38;5;241;43m.\u001b[39;49m\u001b[43mmodel\u001b[49m\u001b[38;5;241m.\u001b[39mfit(\u001b[38;5;28mself\u001b[39m\u001b[38;5;241m.\u001b[39mX_train, \u001b[38;5;28mself\u001b[39m\u001b[38;5;241m.\u001b[39my_train)\n\u001b[1;32m     23\u001b[0m     \u001b[38;5;28mself\u001b[39m\u001b[38;5;241m.\u001b[39my_pred \u001b[38;5;241m=\u001b[39m \u001b[38;5;28mself\u001b[39m\u001b[38;5;241m.\u001b[39mmodel\u001b[38;5;241m.\u001b[39mpredict(\u001b[38;5;28mself\u001b[39m\u001b[38;5;241m.\u001b[39mX_test)\n",
      "\u001b[0;31mAttributeError\u001b[0m: 'DecisionTreeRegression' object has no attribute 'model'"
     ]
    }
   ],
   "source": [
    "dt = DecisionTreeRegression(filepath=prepared_input_file_path)\n",
    "\n",
    "dt.load_and_prepare_data()\n",
    "\n",
    "dt.train_model()\n",
    "\n",
    "dt.evaluate_model()"
   ]
  },
  {
   "cell_type": "code",
   "execution_count": 5,
   "metadata": {},
   "outputs": [
    {
     "name": "stdout",
     "output_type": "stream",
     "text": [
      "MSE: 1671797.4354028413\n",
      "RMSE: 1292.9800599401528\n",
      "MAE: 381.6202343654059\n",
      "0.5280480381687483\n",
      "R²-Score: 0.7093663395998406\n"
     ]
    }
   ],
   "source": [
    "dt = DecisionTreeRegression(filepath=input_file_path)\n",
    "\n",
    "dt.load_and_prepare_data(drop_features=False)\n",
    "\n",
    "dt.train_model()\n",
    "\n",
    "dt.evaluate_model()"
   ]
  },
  {
   "cell_type": "markdown",
   "metadata": {},
   "source": [
    "## Gradient Boosting Regressor"
   ]
  },
  {
   "cell_type": "code",
   "execution_count": 6,
   "metadata": {},
   "outputs": [
    {
     "name": "stdout",
     "output_type": "stream",
     "text": [
      "MSE: 1096241.1503083918\n",
      "RMSE: 1047.0153534253411\n",
      "MAE: 317.9876629319936\n",
      "0.4480772205464007\n",
      "R²-Score: 0.8094239341151775\n"
     ]
    }
   ],
   "source": [
    "gb = GradientBoostingRegression(filepath=input_file_path, n_estimators=150, random_state=42, max_depth=None, max_features=0.8)\n",
    "\n",
    "gb.load_and_prepare_data(drop_features=False)\n",
    "\n",
    "gb.train_model()\n",
    "\n",
    "gb.evaluate_model()"
   ]
  },
  {
   "cell_type": "code",
   "execution_count": 7,
   "metadata": {},
   "outputs": [
    {
     "name": "stdout",
     "output_type": "stream",
     "text": [
      "MSE: 581818.7408644119\n",
      "RMSE: 762.7704378542812\n",
      "MAE: 255.3058225153475\n",
      "0.36734768698999315\n",
      "R²-Score: 0.8988537087293175\n"
     ]
    }
   ],
   "source": [
    "gb = GradientBoostingRegression(filepath=prepared_input_file_path, n_estimators=150, random_state=42, max_depth=None, max_features=0.8)\n",
    "\n",
    "gb.load_and_prepare_data(drop_features=True)\n",
    "\n",
    "gb.train_model()\n",
    "\n",
    "gb.evaluate_model()"
   ]
  },
  {
   "cell_type": "markdown",
   "metadata": {},
   "source": [
    "## Support Vector Regressor"
   ]
  },
  {
   "cell_type": "code",
   "execution_count": 10,
   "metadata": {},
   "outputs": [
    {
     "name": "stdout",
     "output_type": "stream",
     "text": [
      "MSE: 6188732.809462636\n",
      "RMSE: 2487.716384450333\n",
      "MAE: 1109.916668897421\n",
      "1.969119634553542\n",
      "R²-Score: -0.07588038572345246\n"
     ]
    }
   ],
   "source": [
    "svr = SVRRegressor(prepared_input_file_path)\n",
    "\n",
    "svr.prepare_for_svr(drop_features=False)\n",
    "\n",
    "svr.train_model()\n",
    "\n",
    "svr.evaluate_model()\n"
   ]
  },
  {
   "cell_type": "markdown",
   "metadata": {},
   "source": [
    "## XGB Regressor"
   ]
  },
  {
   "cell_type": "code",
   "execution_count": 10,
   "metadata": {},
   "outputs": [
    {
     "name": "stdout",
     "output_type": "stream",
     "text": [
      "MSE: 1422511.6451800982\n",
      "RMSE: 1192.690926091122\n",
      "MAE: 401.9855054967018\n",
      "0.7474971805484476\n",
      "R²-Score: 0.7527034330562163\n"
     ]
    }
   ],
   "source": [
    "xgbr = XGBoostRegressor(input_file_path, learning_rate = 0.05, max_depth=50, colsample_bytree=0.8, n_estimators = 150, alpha = 1)\n",
    "\n",
    "xgbr.load_and_prepare_data(drop_features=False)\n",
    "\n",
    "xgbr.train_model()\n",
    "\n",
    "xgbr.evaluate_model()"
   ]
  },
  {
   "cell_type": "code",
   "execution_count": 6,
   "metadata": {},
   "outputs": [
    {
     "name": "stdout",
     "output_type": "stream",
     "text": [
      "      Timestamp  i_o_read  i_o_write        memory  \\\n",
      "3237        710    1108.0      580.0  1.222291e+10   \n",
      "2897         30    3002.0        0.0  1.146046e+10   \n",
      "2271        930    1484.0     6428.0  1.301139e+10   \n",
      "5148        152       0.0     1550.0  1.326846e+10   \n",
      "5663        120    8484.0        0.0  1.267372e+10   \n",
      "...         ...       ...        ...           ...   \n",
      "3772        472    4354.0      197.0  1.202170e+10   \n",
      "5191        238       0.0     1599.0  1.326720e+10   \n",
      "5226        308       0.0     1632.0  1.305342e+10   \n",
      "5390        636    1487.0     1607.0  1.289147e+10   \n",
      "860        1730       0.0     9647.0  1.143263e+10   \n",
      "\n",
      "      network_outgoing_pod-pod-2  network_outgoing_pod-pod-6  \\\n",
      "3237                24819.000000                    819292.0   \n",
      "2897                  295.000000                     32387.0   \n",
      "2271                21953.000000                    680040.0   \n",
      "5148                 2860.000000                     70809.0   \n",
      "5663                14537.676779                       647.0   \n",
      "...                          ...                         ...   \n",
      "3772                21212.000000                    648993.0   \n",
      "5191                 6449.000000                    164153.0   \n",
      "5226                 9279.000000                    251033.0   \n",
      "5390                11935.000000                    313931.0   \n",
      "860                 15536.000000                    441870.0   \n",
      "\n",
      "      network_outgoing_pod-pod-12  network_outgoing_pod-pod-13  \\\n",
      "3237                       7292.0                       6494.0   \n",
      "2897                        197.0                        259.0   \n",
      "2271                       6543.0                       5811.0   \n",
      "5148                        801.0                       1137.0   \n",
      "5663                      62604.0                        489.0   \n",
      "...                           ...                          ...   \n",
      "3772                       5926.0                       5718.0   \n",
      "5191                       1692.0                       2167.0   \n",
      "5226                       2374.0                       2998.0   \n",
      "5390                       3047.0                       3997.0   \n",
      "860                        4139.0                       4288.0   \n",
      "\n",
      "      network_outgoing_system  cpu_pod-pod-10  ...  memory_rolling_avg_5  \\\n",
      "3237                1157592.0         0.07020  ...          1.222302e+10   \n",
      "2897                  43812.0         0.00151  ...          1.138723e+10   \n",
      "2271                 979383.0         0.06600  ...          1.301894e+10   \n",
      "5148                 112668.0         0.01360  ...          1.326718e+10   \n",
      "5663                  92032.0         0.04350  ...          1.269860e+10   \n",
      "...                       ...             ...  ...                   ...   \n",
      "3772                 933050.0         0.06680  ...          1.200822e+10   \n",
      "5191                 253815.0         0.02680  ...          1.326569e+10   \n",
      "5226                 378907.0         0.03880  ...          1.305554e+10   \n",
      "5390                 477386.0         0.05020  ...          1.289495e+10   \n",
      "860                  647531.0         0.05620  ...          1.143314e+10   \n",
      "\n",
      "      cpu_pod-pod-1_rolling_avg_5  cpu_pod-pod-11_rolling_avg_5  \\\n",
      "3237                     0.022480                      0.082700   \n",
      "2897                     0.002430                      0.002932   \n",
      "2271                     0.023900                      0.075080   \n",
      "5148                     0.004324                      0.010400   \n",
      "5663                     0.016580                      0.049688   \n",
      "...                           ...                           ...   \n",
      "3772                     0.042400                      0.064620   \n",
      "5191                     0.007914                      0.023860   \n",
      "5226                     0.011300                      0.033420   \n",
      "5390                     0.012660                      0.044440   \n",
      "860                      0.017800                      0.045000   \n",
      "\n",
      "      cpu_pod-pod-8_rolling_avg_5  cpu_system_cumsum  memory_cumsum  \\\n",
      "3237                     0.100637           18.26370   4.330684e+12   \n",
      "2897                     0.009866            0.10852   1.695589e+11   \n",
      "2271                     0.163400           25.03938   5.785941e+12   \n",
      "5148                     0.023320            0.45681   8.303680e+11   \n",
      "5663                     0.049160            0.46919   6.343109e+11   \n",
      "...                           ...                ...            ...   \n",
      "3772                     0.153200            8.74757   2.864968e+12   \n",
      "5191                     0.047100            1.49351   1.400616e+12   \n",
      "5226                     0.063840            2.84861   1.862601e+12   \n",
      "5390                     0.082680           11.70471   3.957436e+12   \n",
      "860                      0.101600           49.06273   1.025259e+13   \n",
      "\n",
      "      network_outgoing_system_log_scaled  memory_log_scaled  \\\n",
      "3237                           13.961853          23.226578   \n",
      "2897                           10.687686          23.162169   \n",
      "2271                           13.794679          23.289091   \n",
      "5148                           11.632210          23.308656   \n",
      "5663                           11.429902          23.262796   \n",
      "...                                  ...                ...   \n",
      "3772                           13.746215          23.209979   \n",
      "5191                           12.444365          23.308561   \n",
      "5226                           12.845049          23.292316   \n",
      "5390                           13.076083          23.279832   \n",
      "860                            13.380923          23.159738   \n",
      "\n",
      "      cpu_system_log_scaled  pod_restart  \n",
      "3237               0.075942          0.0  \n",
      "2897               0.004092          0.0  \n",
      "2271               0.072786          0.0  \n",
      "5148               0.016267          0.0  \n",
      "5663               0.015480          0.0  \n",
      "...                     ...          ...  \n",
      "3772               0.071390          0.0  \n",
      "5191               0.030917          0.0  \n",
      "5226               0.043825          0.0  \n",
      "5390               0.053730          0.0  \n",
      "860                0.058835          0.0  \n",
      "\n",
      "[4032 rows x 40 columns]\n",
      "MSE: 545669.6597821781\n",
      "RMSE: 738.6945646085248\n",
      "MAE: 263.436467686346\n",
      "0.41216960340313824\n",
      "R²-Score: 0.905138046492104\n"
     ]
    }
   ],
   "source": [
    "xgbr = XGBoostRegressor(prepared_input_file_path, learning_rate = 0.05, max_depth=50, colsample_bytree=0.8, n_estimators = 150, alpha = 1)\n",
    "\n",
    "xgbr.load_and_prepare_data(drop_features=True)\n",
    "\n",
    "print(xgbr.X_train)\n",
    "\n",
    "xgbr.train_model()\n",
    "\n",
    "xgbr.evaluate_model()"
   ]
  },
  {
   "cell_type": "markdown",
   "metadata": {},
   "source": [
    "## Neural Network"
   ]
  },
  {
   "cell_type": "code",
   "execution_count": 2,
   "metadata": {},
   "outputs": [
    {
     "name": "stdout",
     "output_type": "stream",
     "text": [
      "Epoch 1/50\n",
      "\u001b[1m101/101\u001b[0m \u001b[32m━━━━━━━━━━━━━━━━━━━━\u001b[0m\u001b[37m\u001b[0m \u001b[1m1s\u001b[0m 909us/step - loss: 4788381.5000 - val_loss: 4571696.0000\n",
      "Epoch 2/50\n",
      "\u001b[1m101/101\u001b[0m \u001b[32m━━━━━━━━━━━━━━━━━━━━\u001b[0m\u001b[37m\u001b[0m \u001b[1m0s\u001b[0m 459us/step - loss: 4900555.0000 - val_loss: 4131664.2500\n",
      "Epoch 3/50\n",
      "\u001b[1m101/101\u001b[0m \u001b[32m━━━━━━━━━━━━━━━━━━━━\u001b[0m\u001b[37m\u001b[0m \u001b[1m0s\u001b[0m 465us/step - loss: 3692937.5000 - val_loss: 4105271.5000\n",
      "Epoch 4/50\n",
      "\u001b[1m101/101\u001b[0m \u001b[32m━━━━━━━━━━━━━━━━━━━━\u001b[0m\u001b[37m\u001b[0m \u001b[1m0s\u001b[0m 460us/step - loss: 5069008.0000 - val_loss: 3415236.7500\n",
      "Epoch 5/50\n",
      "\u001b[1m101/101\u001b[0m \u001b[32m━━━━━━━━━━━━━━━━━━━━\u001b[0m\u001b[37m\u001b[0m \u001b[1m0s\u001b[0m 460us/step - loss: 3429592.0000 - val_loss: 5552704.5000\n",
      "Epoch 6/50\n",
      "\u001b[1m101/101\u001b[0m \u001b[32m━━━━━━━━━━━━━━━━━━━━\u001b[0m\u001b[37m\u001b[0m \u001b[1m0s\u001b[0m 468us/step - loss: 2906629.7500 - val_loss: 3360574.5000\n",
      "Epoch 7/50\n",
      "\u001b[1m101/101\u001b[0m \u001b[32m━━━━━━━━━━━━━━━━━━━━\u001b[0m\u001b[37m\u001b[0m \u001b[1m0s\u001b[0m 456us/step - loss: 3205094.2500 - val_loss: 3416164.5000\n",
      "Epoch 8/50\n",
      "\u001b[1m101/101\u001b[0m \u001b[32m━━━━━━━━━━━━━━━━━━━━\u001b[0m\u001b[37m\u001b[0m \u001b[1m0s\u001b[0m 464us/step - loss: 5778208.0000 - val_loss: 4950641.0000\n",
      "Epoch 9/50\n",
      "\u001b[1m101/101\u001b[0m \u001b[32m━━━━━━━━━━━━━━━━━━━━\u001b[0m\u001b[37m\u001b[0m \u001b[1m0s\u001b[0m 458us/step - loss: 3694640.7500 - val_loss: 4600640.5000\n",
      "Epoch 10/50\n",
      "\u001b[1m101/101\u001b[0m \u001b[32m━━━━━━━━━━━━━━━━━━━━\u001b[0m\u001b[37m\u001b[0m \u001b[1m0s\u001b[0m 466us/step - loss: 2784995.2500 - val_loss: 3252773.0000\n",
      "Epoch 11/50\n",
      "\u001b[1m101/101\u001b[0m \u001b[32m━━━━━━━━━━━━━━━━━━━━\u001b[0m\u001b[37m\u001b[0m \u001b[1m0s\u001b[0m 465us/step - loss: 2735108.5000 - val_loss: 4158381.7500\n",
      "Epoch 12/50\n",
      "\u001b[1m101/101\u001b[0m \u001b[32m━━━━━━━━━━━━━━━━━━━━\u001b[0m\u001b[37m\u001b[0m \u001b[1m0s\u001b[0m 463us/step - loss: 3824439.7500 - val_loss: 2894107.0000\n",
      "Epoch 13/50\n",
      "\u001b[1m101/101\u001b[0m \u001b[32m━━━━━━━━━━━━━━━━━━━━\u001b[0m\u001b[37m\u001b[0m \u001b[1m0s\u001b[0m 461us/step - loss: 2664926.5000 - val_loss: 3024450.5000\n",
      "Epoch 14/50\n",
      "\u001b[1m101/101\u001b[0m \u001b[32m━━━━━━━━━━━━━━━━━━━━\u001b[0m\u001b[37m\u001b[0m \u001b[1m0s\u001b[0m 529us/step - loss: 2915143.7500 - val_loss: 2822527.0000\n",
      "Epoch 15/50\n",
      "\u001b[1m101/101\u001b[0m \u001b[32m━━━━━━━━━━━━━━━━━━━━\u001b[0m\u001b[37m\u001b[0m \u001b[1m0s\u001b[0m 459us/step - loss: 3363136.2500 - val_loss: 3935732.2500\n",
      "Epoch 16/50\n",
      "\u001b[1m101/101\u001b[0m \u001b[32m━━━━━━━━━━━━━━━━━━━━\u001b[0m\u001b[37m\u001b[0m \u001b[1m0s\u001b[0m 454us/step - loss: 2929061.5000 - val_loss: 3488872.7500\n",
      "Epoch 17/50\n",
      "\u001b[1m101/101\u001b[0m \u001b[32m━━━━━━━━━━━━━━━━━━━━\u001b[0m\u001b[37m\u001b[0m \u001b[1m0s\u001b[0m 455us/step - loss: 2057715.2500 - val_loss: 3942463.5000\n",
      "Epoch 18/50\n",
      "\u001b[1m101/101\u001b[0m \u001b[32m━━━━━━━━━━━━━━━━━━━━\u001b[0m\u001b[37m\u001b[0m \u001b[1m0s\u001b[0m 455us/step - loss: 2028411.0000 - val_loss: 4230162.5000\n",
      "Epoch 19/50\n",
      "\u001b[1m101/101\u001b[0m \u001b[32m━━━━━━━━━━━━━━━━━━━━\u001b[0m\u001b[37m\u001b[0m \u001b[1m0s\u001b[0m 440us/step - loss: 3070329.2500 - val_loss: 2349823.7500\n",
      "Epoch 20/50\n",
      "\u001b[1m101/101\u001b[0m \u001b[32m━━━━━━━━━━━━━━━━━━━━\u001b[0m\u001b[37m\u001b[0m \u001b[1m0s\u001b[0m 437us/step - loss: 1814208.7500 - val_loss: 2468466.7500\n",
      "Epoch 21/50\n",
      "\u001b[1m101/101\u001b[0m \u001b[32m━━━━━━━━━━━━━━━━━━━━\u001b[0m\u001b[37m\u001b[0m \u001b[1m0s\u001b[0m 440us/step - loss: 3563216.5000 - val_loss: 2620793.5000\n",
      "Epoch 22/50\n",
      "\u001b[1m101/101\u001b[0m \u001b[32m━━━━━━━━━━━━━━━━━━━━\u001b[0m\u001b[37m\u001b[0m \u001b[1m0s\u001b[0m 446us/step - loss: 1895471.1250 - val_loss: 2841558.2500\n",
      "Epoch 23/50\n",
      "\u001b[1m101/101\u001b[0m \u001b[32m━━━━━━━━━━━━━━━━━━━━\u001b[0m\u001b[37m\u001b[0m \u001b[1m0s\u001b[0m 441us/step - loss: 2257504.7500 - val_loss: 2681909.2500\n",
      "Epoch 24/50\n",
      "\u001b[1m101/101\u001b[0m \u001b[32m━━━━━━━━━━━━━━━━━━━━\u001b[0m\u001b[37m\u001b[0m \u001b[1m0s\u001b[0m 456us/step - loss: 1940167.0000 - val_loss: 4186106.5000\n",
      "Epoch 25/50\n",
      "\u001b[1m101/101\u001b[0m \u001b[32m━━━━━━━━━━━━━━━━━━━━\u001b[0m\u001b[37m\u001b[0m \u001b[1m0s\u001b[0m 459us/step - loss: 3961141.5000 - val_loss: 3871397.2500\n",
      "Epoch 26/50\n",
      "\u001b[1m101/101\u001b[0m \u001b[32m━━━━━━━━━━━━━━━━━━━━\u001b[0m\u001b[37m\u001b[0m \u001b[1m0s\u001b[0m 467us/step - loss: 1895904.5000 - val_loss: 2965700.0000\n",
      "Epoch 27/50\n",
      "\u001b[1m101/101\u001b[0m \u001b[32m━━━━━━━━━━━━━━━━━━━━\u001b[0m\u001b[37m\u001b[0m \u001b[1m0s\u001b[0m 462us/step - loss: 3480921.5000 - val_loss: 2830317.2500\n",
      "Epoch 28/50\n",
      "\u001b[1m101/101\u001b[0m \u001b[32m━━━━━━━━━━━━━━━━━━━━\u001b[0m\u001b[37m\u001b[0m \u001b[1m0s\u001b[0m 449us/step - loss: 2138073.2500 - val_loss: 3683222.0000\n",
      "Epoch 29/50\n",
      "\u001b[1m101/101\u001b[0m \u001b[32m━━━━━━━━━━━━━━━━━━━━\u001b[0m\u001b[37m\u001b[0m \u001b[1m0s\u001b[0m 456us/step - loss: 3154908.2500 - val_loss: 2783621.2500\n",
      "Epoch 30/50\n",
      "\u001b[1m101/101\u001b[0m \u001b[32m━━━━━━━━━━━━━━━━━━━━\u001b[0m\u001b[37m\u001b[0m \u001b[1m0s\u001b[0m 446us/step - loss: 1807297.8750 - val_loss: 3490861.2500\n",
      "Epoch 31/50\n",
      "\u001b[1m101/101\u001b[0m \u001b[32m━━━━━━━━━━━━━━━━━━━━\u001b[0m\u001b[37m\u001b[0m \u001b[1m0s\u001b[0m 442us/step - loss: 2324122.5000 - val_loss: 3173658.0000\n",
      "Epoch 32/50\n",
      "\u001b[1m101/101\u001b[0m \u001b[32m━━━━━━━━━━━━━━━━━━━━\u001b[0m\u001b[37m\u001b[0m \u001b[1m0s\u001b[0m 443us/step - loss: 1954950.0000 - val_loss: 2371072.0000\n",
      "Epoch 33/50\n",
      "\u001b[1m101/101\u001b[0m \u001b[32m━━━━━━━━━━━━━━━━━━━━\u001b[0m\u001b[37m\u001b[0m \u001b[1m0s\u001b[0m 436us/step - loss: 2815935.7500 - val_loss: 2171239.0000\n",
      "Epoch 34/50\n",
      "\u001b[1m101/101\u001b[0m \u001b[32m━━━━━━━━━━━━━━━━━━━━\u001b[0m\u001b[37m\u001b[0m \u001b[1m0s\u001b[0m 435us/step - loss: 1824303.6250 - val_loss: 2233497.5000\n",
      "Epoch 35/50\n",
      "\u001b[1m101/101\u001b[0m \u001b[32m━━━━━━━━━━━━━━━━━━━━\u001b[0m\u001b[37m\u001b[0m \u001b[1m0s\u001b[0m 450us/step - loss: 2000459.8750 - val_loss: 3059646.0000\n",
      "Epoch 36/50\n",
      "\u001b[1m101/101\u001b[0m \u001b[32m━━━━━━━━━━━━━━━━━━━━\u001b[0m\u001b[37m\u001b[0m \u001b[1m0s\u001b[0m 449us/step - loss: 2011657.1250 - val_loss: 2522120.7500\n",
      "Epoch 37/50\n",
      "\u001b[1m101/101\u001b[0m \u001b[32m━━━━━━━━━━━━━━━━━━━━\u001b[0m\u001b[37m\u001b[0m \u001b[1m0s\u001b[0m 457us/step - loss: 1890134.6250 - val_loss: 5524001.0000\n",
      "Epoch 38/50\n",
      "\u001b[1m101/101\u001b[0m \u001b[32m━━━━━━━━━━━━━━━━━━━━\u001b[0m\u001b[37m\u001b[0m \u001b[1m0s\u001b[0m 445us/step - loss: 2660629.7500 - val_loss: 2296141.7500\n",
      "Epoch 39/50\n",
      "\u001b[1m101/101\u001b[0m \u001b[32m━━━━━━━━━━━━━━━━━━━━\u001b[0m\u001b[37m\u001b[0m \u001b[1m0s\u001b[0m 455us/step - loss: 1733753.3750 - val_loss: 1752234.3750\n",
      "Epoch 40/50\n",
      "\u001b[1m101/101\u001b[0m \u001b[32m━━━━━━━━━━━━━━━━━━━━\u001b[0m\u001b[37m\u001b[0m \u001b[1m0s\u001b[0m 443us/step - loss: 1194273.6250 - val_loss: 2012958.6250\n",
      "Epoch 41/50\n",
      "\u001b[1m101/101\u001b[0m \u001b[32m━━━━━━━━━━━━━━━━━━━━\u001b[0m\u001b[37m\u001b[0m \u001b[1m0s\u001b[0m 439us/step - loss: 1771531.1250 - val_loss: 2116203.5000\n",
      "Epoch 42/50\n",
      "\u001b[1m101/101\u001b[0m \u001b[32m━━━━━━━━━━━━━━━━━━━━\u001b[0m\u001b[37m\u001b[0m \u001b[1m0s\u001b[0m 439us/step - loss: 1515610.0000 - val_loss: 3845755.7500\n",
      "Epoch 43/50\n",
      "\u001b[1m101/101\u001b[0m \u001b[32m━━━━━━━━━━━━━━━━━━━━\u001b[0m\u001b[37m\u001b[0m \u001b[1m0s\u001b[0m 434us/step - loss: 2353070.7500 - val_loss: 1857189.0000\n",
      "Epoch 44/50\n",
      "\u001b[1m101/101\u001b[0m \u001b[32m━━━━━━━━━━━━━━━━━━━━\u001b[0m\u001b[37m\u001b[0m \u001b[1m0s\u001b[0m 444us/step - loss: 1058147.3750 - val_loss: 2078623.6250\n",
      "Epoch 45/50\n",
      "\u001b[1m101/101\u001b[0m \u001b[32m━━━━━━━━━━━━━━━━━━━━\u001b[0m\u001b[37m\u001b[0m \u001b[1m0s\u001b[0m 439us/step - loss: 1987684.8750 - val_loss: 1906395.2500\n",
      "Epoch 46/50\n",
      "\u001b[1m101/101\u001b[0m \u001b[32m━━━━━━━━━━━━━━━━━━━━\u001b[0m\u001b[37m\u001b[0m \u001b[1m0s\u001b[0m 434us/step - loss: 1610809.0000 - val_loss: 1757427.5000\n",
      "Epoch 47/50\n",
      "\u001b[1m101/101\u001b[0m \u001b[32m━━━━━━━━━━━━━━━━━━━━\u001b[0m\u001b[37m\u001b[0m \u001b[1m0s\u001b[0m 827us/step - loss: 2310396.0000 - val_loss: 2330591.7500\n",
      "Epoch 48/50\n",
      "\u001b[1m101/101\u001b[0m \u001b[32m━━━━━━━━━━━━━━━━━━━━\u001b[0m\u001b[37m\u001b[0m \u001b[1m0s\u001b[0m 455us/step - loss: 971309.9375 - val_loss: 2126383.5000\n",
      "Epoch 49/50\n",
      "\u001b[1m101/101\u001b[0m \u001b[32m━━━━━━━━━━━━━━━━━━━━\u001b[0m\u001b[37m\u001b[0m \u001b[1m0s\u001b[0m 438us/step - loss: 2824411.2500 - val_loss: 4021299.0000\n",
      "Epoch 50/50\n",
      "\u001b[1m101/101\u001b[0m \u001b[32m━━━━━━━━━━━━━━━━━━━━\u001b[0m\u001b[37m\u001b[0m \u001b[1m0s\u001b[0m 437us/step - loss: 2524702.5000 - val_loss: 1862424.3750\n",
      "\u001b[1m55/55\u001b[0m \u001b[32m━━━━━━━━━━━━━━━━━━━━\u001b[0m\u001b[37m\u001b[0m \u001b[1m0s\u001b[0m 461us/step\n",
      "MSE: 1576478.590876922\n",
      "RMSE: 1255.5789863154457\n",
      "MAE: 531.9529395227034\n",
      "3.3171853814580174\n",
      "R²-Score: 0.725937046135831\n"
     ]
    }
   ],
   "source": [
    "ann = SequentialNetwork(prepared_input_file_path, 'mean_squarred_error', 50, 0.25, 0.1)\n",
    "\n",
    "ann.load_and_prepare_data(drop_features=True)\n",
    "\n",
    "ann.compile_model()\n",
    "\n",
    "ann.evaluate_model()\n",
    "\n",
    "\n",
    "\n",
    "\n"
   ]
  }
 ],
 "metadata": {
  "kernelspec": {
   "display_name": "venv",
   "language": "python",
   "name": "python3"
  },
  "language_info": {
   "codemirror_mode": {
    "name": "ipython",
    "version": 3
   },
   "file_extension": ".py",
   "mimetype": "text/x-python",
   "name": "python",
   "nbconvert_exporter": "python",
   "pygments_lexer": "ipython3",
   "version": "3.12.4"
  }
 },
 "nbformat": 4,
 "nbformat_minor": 2
}
