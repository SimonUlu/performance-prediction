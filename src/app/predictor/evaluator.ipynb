{
 "cells": [
  {
   "cell_type": "markdown",
   "metadata": {},
   "source": [
    "## Import all needed models"
   ]
  },
  {
   "cell_type": "code",
   "execution_count": 8,
   "metadata": {},
   "outputs": [],
   "source": [
    "import os \n",
    "import sys\n",
    "import pandas as pd\n",
    "# Füge das übergeordnete Verzeichnis zum Python-Modulsuchpfad hinzu\n",
    "module_path = os.path.abspath(os.path.join('../..'))\n",
    "if module_path not in sys.path:\n",
    "    sys.path.append(module_path)\n",
    "src_path = os.path.abspath(os.path.join('../../..'))\n",
    "if src_path not in sys.path:\n",
    "    sys.path.append(src_path)\n",
    "input_file_path = \"./../../../timeseries/merged/combined_timeseries.csv\"\n",
    "prepared_input_file_path = \"./../../../timeseries/combined/combined_timeseries_final.csv\"\n",
    "\n",
    "from app.predictor.evaluation_models.ensemble.ensemble_regressors import RandomForestRegression, GradientBoostingRegression\n",
    "from app.predictor.evaluation_models.base_models.linear_regressor import LinearRegressor\n",
    "from app.predictor.evaluation_models.base_models.decision_tree_regression import DecisionTreeRegression"
   ]
  },
  {
   "cell_type": "markdown",
   "metadata": {},
   "source": [
    "## Test model for best hyperparameter combination"
   ]
  },
  {
   "cell_type": "code",
   "execution_count": 4,
   "metadata": {},
   "outputs": [
    {
     "name": "stdout",
     "output_type": "stream",
     "text": [
      "MSE: 1052191.4374976787\n",
      "RMSE: 1025.7638312485378\n",
      "MAE: 300.64958147330674\n",
      "7.285926835851419e+16\n",
      "R²-Score: 0.8170817573673519\n"
     ]
    }
   ],
   "source": [
    "rf = RandomForestRegression(filepath=input_file_path,n_estimators=100, random_state=42, max_depth=35, max_features=1.0, param_grid=None )\n",
    "\n",
    "rf.load_and_prepare_data(drop_features=True)\n",
    "\n",
    "rf.train_model()\n",
    "\n",
    "rf.evaluate_model()"
   ]
  },
  {
   "cell_type": "markdown",
   "metadata": {},
   "source": [
    "## Linear Regressor"
   ]
  },
  {
   "cell_type": "code",
   "execution_count": 3,
   "metadata": {},
   "outputs": [
    {
     "name": "stdout",
     "output_type": "stream",
     "text": [
      "MSE: 3185769.0346611175\n",
      "RMSE: 1784.8722740468343\n",
      "MAE: 929.0012369385454\n",
      "2.338403113745467e+17\n",
      "R²-Score: 0.4461699150113022\n"
     ]
    }
   ],
   "source": [
    "lr = LinearRegressor(filepath=input_file_path)\n",
    "\n",
    "lr.load_and_prepare_data(drop_features=True)\n",
    "\n",
    "lr.train_model()\n",
    "\n",
    "lr.evaluate_model()"
   ]
  },
  {
   "cell_type": "markdown",
   "metadata": {},
   "source": [
    "## Decision Tree Regressor"
   ]
  },
  {
   "cell_type": "code",
   "execution_count": 9,
   "metadata": {},
   "outputs": [
    {
     "name": "stdout",
     "output_type": "stream",
     "text": [
      "MSE: 1259204.8483654782\n",
      "RMSE: 1122.1429714459198\n",
      "MAE: 332.46691138037545\n",
      "3.817318468038239e+16\n",
      "R²-Score: 0.781093506591065\n"
     ]
    }
   ],
   "source": [
    "dt = DecisionTreeRegression(filepath=prepared_input_file_path)\n",
    "\n",
    "dt.load_and_prepare_data(drop_features=True)\n",
    "\n",
    "dt.train_model()\n",
    "\n",
    "dt.evaluate_model()"
   ]
  },
  {
   "cell_type": "code",
   "execution_count": 11,
   "metadata": {},
   "outputs": [
    {
     "name": "stdout",
     "output_type": "stream",
     "text": [
      "MSE: 1862283.0838910947\n",
      "RMSE: 1364.6549321682367\n",
      "MAE: 354.6069255297423\n",
      "3.2232860717766756e+16\n",
      "R²-Score: 0.6762513580228418\n"
     ]
    }
   ],
   "source": [
    "dt = DecisionTreeRegression(filepath=input_file_path)\n",
    "\n",
    "dt.load_and_prepare_data(drop_features=True)\n",
    "\n",
    "dt.train_model()\n",
    "\n",
    "dt.evaluate_model()"
   ]
  },
  {
   "cell_type": "markdown",
   "metadata": {},
   "source": [
    "## Gradient Boosting Regressor"
   ]
  },
  {
   "cell_type": "markdown",
   "metadata": {},
   "source": []
  }
 ],
 "metadata": {
  "kernelspec": {
   "display_name": "venv",
   "language": "python",
   "name": "python3"
  },
  "language_info": {
   "codemirror_mode": {
    "name": "ipython",
    "version": 3
   },
   "file_extension": ".py",
   "mimetype": "text/x-python",
   "name": "python",
   "nbconvert_exporter": "python",
   "pygments_lexer": "ipython3",
   "version": "3.12.4"
  }
 },
 "nbformat": 4,
 "nbformat_minor": 2
}
