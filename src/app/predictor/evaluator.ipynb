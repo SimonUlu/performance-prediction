{
 "cells": [
  {
   "cell_type": "markdown",
   "metadata": {},
   "source": [
    "## Import all needed models"
   ]
  },
  {
   "cell_type": "code",
   "execution_count": 1,
   "metadata": {},
   "outputs": [],
   "source": [
    "import os \n",
    "import sys\n",
    "import pandas as pd\n",
    "# Füge das übergeordnete Verzeichnis zum Python-Modulsuchpfad hinzu\n",
    "module_path = os.path.abspath(os.path.join('../..'))\n",
    "if module_path not in sys.path:\n",
    "    sys.path.append(module_path)\n",
    "src_path = os.path.abspath(os.path.join('../../..'))\n",
    "if src_path not in sys.path:\n",
    "    sys.path.append(src_path)\n",
    "input_file_path = \"./../../../timeseries/merged/combined_timeseries.csv\"\n",
    "prepared_input_file_path = \"./../../../timeseries/combined/combined_timeseries_final.csv\"\n",
    "\n",
    "from app.predictor.evaluation_models.ensemble.ensemble_regressors import RandomForestRegression, GradientBoostingRegression, SVRRegressor, XGBoostRegressor\n",
    "from app.predictor.evaluation_models.base_models.linear_regressor import LinearRegressor\n",
    "from app.predictor.evaluation_models.base_models.decision_tree_regression import DecisionTreeRegression"
   ]
  },
  {
   "cell_type": "markdown",
   "metadata": {},
   "source": [
    "## Random Forest Regressor"
   ]
  },
  {
   "cell_type": "code",
   "execution_count": 2,
   "metadata": {},
   "outputs": [
    {
     "name": "stdout",
     "output_type": "stream",
     "text": [
      "MSE: 1063023.8663774868\n",
      "RMSE: 1031.0304876081439\n",
      "MAE: 299.98442215008026\n",
      "0.49001947307173205\n",
      "R²-Score: 0.8151985935403872\n"
     ]
    }
   ],
   "source": [
    "rf = RandomForestRegression(filepath=input_file_path,n_estimators=100, random_state=42, max_depth=35, max_features=1.0, param_grid=None )\n",
    "\n",
    "rf.load_and_prepare_data(drop_features=True)\n",
    "\n",
    "rf.train_model()\n",
    "\n",
    "rf.evaluate_model()"
   ]
  },
  {
   "cell_type": "code",
   "execution_count": 3,
   "metadata": {},
   "outputs": [
    {
     "name": "stdout",
     "output_type": "stream",
     "text": [
      "MSE: 569326.5321878167\n",
      "RMSE: 754.5372967506753\n",
      "MAE: 246.07792892359095\n",
      "0.3454308439162892\n",
      "R²-Score: 0.9010254170100439\n"
     ]
    }
   ],
   "source": [
    "rf = RandomForestRegression(filepath=prepared_input_file_path,n_estimators=100, random_state=42, max_depth=35, max_features=1.0, param_grid=None )\n",
    "\n",
    "rf.load_and_prepare_data(drop_features=True)\n",
    "\n",
    "rf.train_model()\n",
    "\n",
    "rf.evaluate_model()"
   ]
  },
  {
   "cell_type": "markdown",
   "metadata": {},
   "source": [
    "## Linear Regressor"
   ]
  },
  {
   "cell_type": "code",
   "execution_count": 4,
   "metadata": {},
   "outputs": [
    {
     "name": "stdout",
     "output_type": "stream",
     "text": [
      "MSE: 4142605.6007954646\n",
      "RMSE: 2035.3391856876005\n",
      "MAE: 1081.169086841427\n",
      "3.178246614500662\n",
      "R²-Score: 0.2798286420009538\n"
     ]
    }
   ],
   "source": [
    "lr = LinearRegressor(filepath=prepared_input_file_path)\n",
    "\n",
    "lr.load_and_prepare_data(drop_features=True)\n",
    "\n",
    "lr.train_model()\n",
    "\n",
    "lr.evaluate_model()"
   ]
  },
  {
   "cell_type": "code",
   "execution_count": 5,
   "metadata": {},
   "outputs": [
    {
     "name": "stdout",
     "output_type": "stream",
     "text": [
      "MSE: 4625379.727733879\n",
      "RMSE: 2150.6695998534688\n",
      "MAE: 1104.8632660760502\n",
      "3.412632622756908\n",
      "R²-Score: 0.1959007637261596\n"
     ]
    }
   ],
   "source": [
    "lr = LinearRegressor(filepath=input_file_path)\n",
    "\n",
    "lr.load_and_prepare_data(drop_features=False)\n",
    "\n",
    "lr.train_model()\n",
    "\n",
    "lr.evaluate_model()"
   ]
  },
  {
   "cell_type": "markdown",
   "metadata": {},
   "source": [
    "## Decision Tree Regressor"
   ]
  },
  {
   "cell_type": "code",
   "execution_count": 6,
   "metadata": {},
   "outputs": [
    {
     "name": "stdout",
     "output_type": "stream",
     "text": [
      "MSE: 1309173.073166944\n",
      "RMSE: 1144.19101253547\n",
      "MAE: 341.5813479555068\n",
      "0.4351730551105651\n",
      "R²-Score: 0.7724067794970922\n"
     ]
    }
   ],
   "source": [
    "dt = DecisionTreeRegression(filepath=prepared_input_file_path)\n",
    "\n",
    "dt.load_and_prepare_data(drop_features=True)\n",
    "\n",
    "dt.train_model()\n",
    "\n",
    "dt.evaluate_model()"
   ]
  },
  {
   "cell_type": "code",
   "execution_count": 7,
   "metadata": {},
   "outputs": [
    {
     "name": "stdout",
     "output_type": "stream",
     "text": [
      "MSE: 1963128.7808484137\n",
      "RMSE: 1401.1169761473927\n",
      "MAE: 356.62839018555707\n",
      "0.4919257617343898\n",
      "R²-Score: 0.6587198357094053\n"
     ]
    }
   ],
   "source": [
    "dt = DecisionTreeRegression(filepath=input_file_path)\n",
    "\n",
    "dt.load_and_prepare_data(drop_features=True)\n",
    "\n",
    "dt.train_model()\n",
    "\n",
    "dt.evaluate_model()"
   ]
  },
  {
   "cell_type": "markdown",
   "metadata": {},
   "source": [
    "## Gradient Boosting Regressor"
   ]
  },
  {
   "cell_type": "code",
   "execution_count": 8,
   "metadata": {},
   "outputs": [
    {
     "name": "stdout",
     "output_type": "stream",
     "text": [
      "MSE: 928565.4671259846\n",
      "RMSE: 963.6210184123137\n",
      "MAE: 282.20734889820903\n",
      "0.41080086872887933\n",
      "R²-Score: 0.8385735167927331\n"
     ]
    }
   ],
   "source": [
    "gb = GradientBoostingRegression(filepath=input_file_path, n_estimators=150, random_state=42, max_depth=None, max_features=0.8)\n",
    "\n",
    "gb.load_and_prepare_data(drop_features=True)\n",
    "\n",
    "gb.train_model()\n",
    "\n",
    "gb.evaluate_model()"
   ]
  },
  {
   "cell_type": "code",
   "execution_count": 9,
   "metadata": {},
   "outputs": [
    {
     "name": "stdout",
     "output_type": "stream",
     "text": [
      "MSE: 581818.7408644119\n",
      "RMSE: 762.7704378542812\n",
      "MAE: 255.3058225153475\n",
      "0.36734768698999315\n",
      "R²-Score: 0.8988537087293175\n"
     ]
    }
   ],
   "source": [
    "gb = GradientBoostingRegression(filepath=prepared_input_file_path, n_estimators=150, random_state=42, max_depth=None, max_features=0.8)\n",
    "\n",
    "gb.load_and_prepare_data(drop_features=True)\n",
    "\n",
    "gb.train_model()\n",
    "\n",
    "gb.evaluate_model()"
   ]
  },
  {
   "cell_type": "markdown",
   "metadata": {},
   "source": [
    "## Support Vector Regressor"
   ]
  },
  {
   "cell_type": "code",
   "execution_count": 4,
   "metadata": {},
   "outputs": [
    {
     "name": "stdout",
     "output_type": "stream",
     "text": [
      "MSE: 6188732.809462636\n",
      "RMSE: 2487.716384450333\n",
      "MAE: 1109.916668897421\n",
      "1.6538388277391504e+17\n",
      "R²-Score: -0.07588038572345246\n"
     ]
    }
   ],
   "source": [
    "svr = SVRRegressor(prepared_input_file_path)\n",
    "\n",
    "svr.load_and_prepare_data(drop_features=False)\n",
    "\n",
    "svr.train_model()\n",
    "\n",
    "svr.evaluate_model()\n"
   ]
  },
  {
   "cell_type": "markdown",
   "metadata": {},
   "source": [
    "## XGB Regressor"
   ]
  },
  {
   "cell_type": "code",
   "execution_count": 4,
   "metadata": {},
   "outputs": [
    {
     "name": "stdout",
     "output_type": "stream",
     "text": [
      "MSE: 3520368.2866847576\n",
      "RMSE: 1876.264450093525\n",
      "MAE: 827.8029448482952\n",
      "2.439769122251636\n",
      "R²-Score: 0.38800150098968766\n"
     ]
    }
   ],
   "source": [
    "xgbr = XGBoostRegressor(prepared_input_file_path)\n",
    "\n",
    "xgbr.load_and_prepare_data(drop_features=True)\n",
    "\n",
    "xgbr.train_model()\n",
    "\n",
    "xgbr.evaluate_model()"
   ]
  }
 ],
 "metadata": {
  "kernelspec": {
   "display_name": "venv",
   "language": "python",
   "name": "python3"
  },
  "language_info": {
   "codemirror_mode": {
    "name": "ipython",
    "version": 3
   },
   "file_extension": ".py",
   "mimetype": "text/x-python",
   "name": "python",
   "nbconvert_exporter": "python",
   "pygments_lexer": "ipython3",
   "version": "3.12.4"
  }
 },
 "nbformat": 4,
 "nbformat_minor": 2
}
