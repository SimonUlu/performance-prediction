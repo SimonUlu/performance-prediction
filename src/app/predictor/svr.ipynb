{
 "cells": [
  {
   "cell_type": "code",
   "execution_count": 1,
   "metadata": {},
   "outputs": [],
   "source": [
    "import os \n",
    "import sys\n",
    "\n",
    "# Füge das übergeordnete Verzeichnis zum Python-Modulsuchpfad hinzu\n",
    "module_path = os.path.abspath(os.path.join('../..'))\n",
    "if module_path not in sys.path:\n",
    "    sys.path.append(module_path)\n",
    "src_path = os.path.abspath(os.path.join('../../..'))\n",
    "if src_path not in sys.path:\n",
    "    sys.path.append(src_path)\n",
    "input_file_path = \"./../../../timeseries/merged/combined_timeseries.csv\"\n",
    "prepared_input_file_path = \"./../../../timeseries/combined/combined_timeseries_final.csv\"\n",
    "\n",
    "from app.predictor.evaluation_models.ensemble.ensemble_regressors import SVRRegressor\n"
   ]
  },
  {
   "cell_type": "code",
   "execution_count": 2,
   "metadata": {},
   "outputs": [
    {
     "name": "stderr",
     "output_type": "stream",
     "text": [
      "/Users/simonunterlugauer/Desktop/masterarbeit-cluster/performance-prediction/venv/lib/python3.12/site-packages/sklearn/utils/validation.py:1310: DataConversionWarning: A column-vector y was passed when a 1d array was expected. Please change the shape of y to (n_samples, ), for example using ravel().\n",
      "  y = column_or_1d(y, warn=True)\n"
     ]
    },
    {
     "name": "stdout",
     "output_type": "stream",
     "text": [
      "MSE: 0.5260638294982135\n",
      "RMSE: 0.7253025778929877\n",
      "MAE: 0.2563230058995576\n",
      "R²-Score: 0.4487770464689459\n"
     ]
    }
   ],
   "source": [
    "svr = SVRRegressor(prepared_input_file_path)\n",
    "\n",
    "svr.prepare_for_svr()\n",
    "\n",
    "svr.train_model()\n",
    "\n",
    "svr.evaluate_svr_model()"
   ]
  }
 ],
 "metadata": {
  "kernelspec": {
   "display_name": "venv",
   "language": "python",
   "name": "python3"
  },
  "language_info": {
   "codemirror_mode": {
    "name": "ipython",
    "version": 3
   },
   "file_extension": ".py",
   "mimetype": "text/x-python",
   "name": "python",
   "nbconvert_exporter": "python",
   "pygments_lexer": "ipython3",
   "version": "3.12.4"
  }
 },
 "nbformat": 4,
 "nbformat_minor": 2
}
