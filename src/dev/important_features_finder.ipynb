{
 "cells": [
  {
   "cell_type": "markdown",
   "metadata": {},
   "source": [
    "# Import everything needed in this notebook"
   ]
  },
  {
   "cell_type": "code",
   "execution_count": 29,
   "metadata": {},
   "outputs": [],
   "source": [
    "import pandas as pd\n",
    "from sklearn.impute import SimpleImputer\n",
    "from sklearn.tree import DecisionTreeRegressor\n",
    "from sklearn.model_selection import train_test_split\n",
    "import numpy as np\n",
    "import sys\n",
    "import os\n"
   ]
  },
  {
   "cell_type": "code",
   "execution_count": 30,
   "metadata": {},
   "outputs": [],
   "source": [
    "# Füge das übergeordnete Verzeichnis zum Python-Modulsuchpfad hinzu\n",
    "module_path = os.path.abspath(os.path.join('..'))\n",
    "if module_path not in sys.path:\n",
    "    sys.path.append(module_path)\n",
    "input_file_path = \"./../../timeseries/combined/scaled_combined_timeseries.csv\"\n",
    "df = pd.read_csv(input_file_path)"
   ]
  },
  {
   "cell_type": "code",
   "execution_count": 32,
   "metadata": {},
   "outputs": [],
   "source": [
    "imputer = SimpleImputer(strategy='mean')\n",
    "df_imputed = pd.DataFrame(imputer.fit_transform(df.select_dtypes(include=['float64', 'int64'])))\n",
    "df_imputed.columns = df.select_dtypes(include=['float64', 'int64']).columns\n",
    "df_imputed['Timestamp'] = df['Timestamp']  # Timestamp (oder andere nicht-numerische Spalten) hinzufügen, falls benötigt"
   ]
  },
  {
   "cell_type": "code",
   "execution_count": 33,
   "metadata": {},
   "outputs": [],
   "source": [
    "X = df_imputed.drop(['Durchschnittliche Antwortzeitintervalle', 'Timestamp'], axis=1)\n",
    "y = df_imputed['Durchschnittliche Antwortzeitintervalle']\n",
    "\n",
    "# Aufteilung in Trainings- und Testdaten\n",
    "X_train, X_test, y_train, y_test = train_test_split(X, y, test_size=0.2, random_state=42)"
   ]
  },
  {
   "cell_type": "code",
   "execution_count": 34,
   "metadata": {},
   "outputs": [
    {
     "name": "stdout",
     "output_type": "stream",
     "text": [
      "                        Feature  Importance\n",
      "40      pod-restart-count-pod-9    0.316827\n",
      "0           Requests je Sekunde    0.164157\n",
      "25                cpu_pod-pod-8    0.159202\n",
      "10   network_outgoing_pod-pod-7    0.082298\n",
      "61            memory_log_scaled    0.045663\n",
      "11   network_outgoing_pod-pod-8    0.041247\n",
      "57  cpu_pod-pod-1_rolling_avg_5    0.030367\n",
      "54    Requests je Sekunde_lag_5    0.021953\n",
      "50    Requests je Sekunde_lag_1    0.017718\n",
      "51    Requests je Sekunde_lag_2    0.010637\n",
      "9    network_outgoing_pod-pod-6    0.010326\n",
      "5    network_outgoing_pod-pod-2    0.009974\n",
      "59            cpu_system_cumsum    0.008746\n",
      "19                cpu_pod-pod-2    0.008192\n",
      "26                cpu_pod-pod-9    0.007735\n",
      "1                      i_o_read    0.007351\n",
      "62          i_o_read_log_scaled    0.007351\n",
      "53    Requests je Sekunde_lag_4    0.006846\n",
      "3                        memory    0.005715\n",
      "14  network_outgoing_pod-pod-11    0.004731\n"
     ]
    }
   ],
   "source": [
    "# Angenommen, X_train und y_train sind bereits definiert und vorbereitet\n",
    "# Trainieren des Modells\n",
    "model = DecisionTreeRegressor(random_state=42)\n",
    "model.fit(X_train, y_train)\n",
    "\n",
    "# Holen der Feature Importances\n",
    "importances = model.feature_importances_\n",
    "\n",
    "# Konvertieren der Importances in einen DataFrame für eine bessere Visualisierung\n",
    "features_df = pd.DataFrame({'Feature': X_train.columns, 'Importance': importances})\n",
    "\n",
    "# Sortieren der Features nach ihrer Wichtigkeit\n",
    "features_df = features_df.sort_values(by='Importance', ascending=False)\n",
    "\n",
    "# Anzeigen der Top 3-5 Features\n",
    "print(features_df.head(20))"
   ]
  }
 ],
 "metadata": {
  "kernelspec": {
   "display_name": "venv",
   "language": "python",
   "name": "python3"
  },
  "language_info": {
   "codemirror_mode": {
    "name": "ipython",
    "version": 3
   },
   "file_extension": ".py",
   "mimetype": "text/x-python",
   "name": "python",
   "nbconvert_exporter": "python",
   "pygments_lexer": "ipython3",
   "version": "3.12.4"
  }
 },
 "nbformat": 4,
 "nbformat_minor": 2
}
