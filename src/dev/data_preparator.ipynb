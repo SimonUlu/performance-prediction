{
 "cells": [
  {
   "cell_type": "markdown",
   "metadata": {},
   "source": [
    "# Import Statements"
   ]
  },
  {
   "cell_type": "code",
   "execution_count": 4,
   "metadata": {},
   "outputs": [],
   "source": [
    "import sys\n",
    "import os\n",
    "\n",
    "# Füge das übergeordnete Verzeichnis zum Python-Modulsuchpfad hinzu\n",
    "module_path = os.path.abspath(os.path.join('..'))\n",
    "if module_path not in sys.path:\n",
    "    sys.path.append(module_path)\n",
    "\n",
    "# Jetzt kannst du das Modul importieren, als wäre es im gleichen Verzeichnis\n",
    "from app.preprocessors.data_preparator import DataPreparator"
   ]
  },
  {
   "cell_type": "code",
   "execution_count": 5,
   "metadata": {},
   "outputs": [
    {
     "ename": "AttributeError",
     "evalue": "'DataPreparator' object has no attribute 'add'",
     "output_type": "error",
     "traceback": [
      "\u001b[0;31m---------------------------------------------------------------------------\u001b[0m",
      "\u001b[0;31mAttributeError\u001b[0m                            Traceback (most recent call last)",
      "Cell \u001b[0;32mIn[5], line 9\u001b[0m\n\u001b[1;32m      5\u001b[0m data_preparator\u001b[38;5;241m.\u001b[39madd_lags(columns \u001b[38;5;241m=\u001b[39m [\u001b[38;5;124m'\u001b[39m\u001b[38;5;124mcpu_system\u001b[39m\u001b[38;5;124m'\u001b[39m, \u001b[38;5;124m'\u001b[39m\u001b[38;5;124mRequests je Sekunde\u001b[39m\u001b[38;5;124m'\u001b[39m], num_past_timestamps\u001b[38;5;241m=\u001b[39m\u001b[38;5;241m5\u001b[39m)\n\u001b[1;32m      7\u001b[0m data_preparator\u001b[38;5;241m.\u001b[39madd_rolling_average(columns \u001b[38;5;241m=\u001b[39m [\u001b[38;5;124m'\u001b[39m\u001b[38;5;124mcpu_system\u001b[39m\u001b[38;5;124m'\u001b[39m, \u001b[38;5;124m'\u001b[39m\u001b[38;5;124mlong_memory\u001b[39m\u001b[38;5;124m'\u001b[39m], window_size\u001b[38;5;241m=\u001b[39m\u001b[38;5;241m5\u001b[39m)\n\u001b[0;32m----> 9\u001b[0m \u001b[43mdata_preparator\u001b[49m\u001b[38;5;241;43m.\u001b[39;49m\u001b[43madd\u001b[49m\n\u001b[1;32m     11\u001b[0m data_preparator\u001b[38;5;241m.\u001b[39mdata\u001b[38;5;241m.\u001b[39mhead(\u001b[38;5;241m20\u001b[39m)\n",
      "\u001b[0;31mAttributeError\u001b[0m: 'DataPreparator' object has no attribute 'add'"
     ]
    }
   ],
   "source": [
    "input_file_path = \"./../../timeseries/merged/constant-load/long/file.csv\"\n",
    "\n",
    "data_preparator = DataPreparator(input_file_path)\n",
    "\n",
    "data_preparator.add_lags(columns = ['cpu_system', 'Requests je Sekunde'], num_past_timestamps=5)\n",
    "\n",
    "data_preparator.add_rolling_average(columns = ['cpu_system', 'long_memory'], window_size=5)\n",
    "\n",
    "data_preparator.add_cumulative_sum(columns=['Requests je Sekunde'])\n",
    "\n",
    "data_preparator.data.head(20)"
   ]
  }
 ],
 "metadata": {
  "kernelspec": {
   "display_name": "venv",
   "language": "python",
   "name": "python3"
  },
  "language_info": {
   "codemirror_mode": {
    "name": "ipython",
    "version": 3
   },
   "file_extension": ".py",
   "mimetype": "text/x-python",
   "name": "python",
   "nbconvert_exporter": "python",
   "pygments_lexer": "ipython3",
   "version": "3.12.3"
  }
 },
 "nbformat": 4,
 "nbformat_minor": 2
}
