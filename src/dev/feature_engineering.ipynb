{
 "cells": [
  {
   "cell_type": "markdown",
   "metadata": {},
   "source": [
    "# Import everything"
   ]
  },
  {
   "cell_type": "code",
   "execution_count": 9,
   "metadata": {},
   "outputs": [],
   "source": [
    "import pandas as pd\n",
    "from sklearn.feature_selection import VarianceThreshold, SelectFromModel\n",
    "from sklearn.feature_selection import RFECV\n",
    "from sklearn.tree import DecisionTreeRegressor\n",
    "from sklearn.impute import SimpleImputer\n",
    "from sklearn.model_selection import train_test_split\n",
    "import numpy as np\n",
    "input_file_path = \"./../../timeseries/combined/combined_timeseries.csv\"\n",
    "df = pd.read_csv(input_file_path)"
   ]
  },
  {
   "cell_type": "markdown",
   "metadata": {},
   "source": [
    "## Deal with nan-values"
   ]
  },
  {
   "cell_type": "code",
   "execution_count": 10,
   "metadata": {},
   "outputs": [],
   "source": [
    "imputer = SimpleImputer(strategy='mean')  # oder eine andere geeignete Strategie\n",
    "df_imputed = pd.DataFrame(imputer.fit_transform(df), columns=df.columns)"
   ]
  },
  {
   "cell_type": "markdown",
   "metadata": {},
   "source": [
    "### Prepare and split data"
   ]
  },
  {
   "cell_type": "code",
   "execution_count": 11,
   "metadata": {},
   "outputs": [],
   "source": [
    "X = df.drop(['Durchschnittliche Antwortzeitintervalle', 'Requests je Sekunde', 'Timestamp'], axis=1)\n",
    "y = df['Durchschnittliche Antwortzeitintervalle']\n",
    "\n",
    "# Aufteilung in Trainings- und Testdaten\n",
    "X_train, X_test, y_train, y_test = train_test_split(X, y, test_size=0.2, random_state=42)\n"
   ]
  },
  {
   "cell_type": "markdown",
   "metadata": {},
   "source": [
    "## Remove features with low variance"
   ]
  },
  {
   "cell_type": "code",
   "execution_count": 15,
   "metadata": {},
   "outputs": [
    {
     "name": "stdout",
     "output_type": "stream",
     "text": [
      "Behaltene Features: ['three_i_o_read' 'three_i_o_write' 'three_memory' 'system-pod-1'\n",
      " 'system-pod-2' 'system-pod-3' 'system-pod-4' 'system-pod-5'\n",
      " 'system-pod-6' 'system-pod-7' 'system-pod-8' 'system-pod-9'\n",
      " 'system-pod-10' 'system-pod-11' 'system-pod-12' 'system-pod-13'\n",
      " 'network_outgoing_system' 'one_i_o_read' 'one_i_o_write' 'one_memory'\n",
      " 'network_outgoing_pod_adservice' 'network_outgoing_pod_cartservice'\n",
      " 'network_outgoing_pod_checkoutservice'\n",
      " 'network_outgoing_pod_currencyservice'\n",
      " 'network_outgoing_pod_emailservice' 'network_outgoing_pod_frontend'\n",
      " 'network_outgoing_pod_loadgenerator'\n",
      " 'network_outgoing_pod_loadgenerator.1'\n",
      " 'network_outgoing_pod_paymentservice'\n",
      " 'network_outgoing_pod_productcatalogservice'\n",
      " 'network_outgoing_pod_recommendationservice' 'network_outgoing_pod_redis'\n",
      " 'network_outgoing_pod_shippingservice' 'two_i_o_read' 'two_i_o_write'\n",
      " 'two_memory' 'slower_i_o_read' 'slower_i_o_write' 'slower_memory'\n",
      " 'faster_i_o_read' 'faster_i_o_write' 'faster_memory' 'medium_i_o_read'\n",
      " 'medium_i_o_write' 'medium_memory' 'long_i_o_read' 'long_i_o_write'\n",
      " 'long_memory' 'high_low_i_o_read' 'high_low_i_o_write' 'high_low_memory'\n",
      " 'high_i_o_read' 'high_i_o_write' 'high_memory' 'low_i_o_read'\n",
      " 'low_i_o_write' 'low_memory' 'checkout_i_o_read' 'checkout_i_o_write'\n",
      " 'checkout_memory' 'cart_i_o_read' 'cart_i_o_write' 'cart_memory']\n",
      "Entfernte Features: ['system-pod-1.1' 'system-pod-2.1' 'system-pod-3.1' 'system-pod-4.1'\n",
      " 'system-pod-5.1' 'system-pod-6.1' 'system-pod-7.1' 'system-pod-8.1'\n",
      " 'system-pod-9.1' 'system-pod-10.1' 'system-pod-11.1' 'system-pod-12.1'\n",
      " 'system-pod-13.1' 'cpu_system' 'system-pod-1.2' 'system-pod-2.2'\n",
      " 'system-pod-3.2' 'system-pod-4.2' 'system-pod-5.2' 'system-pod-6.2'\n",
      " 'system-pod-7.2' 'system-pod-8.2' 'system-pod-9.2' 'system-pod-10.2'\n",
      " 'system-pod-11.2' 'system-pod-12.2' 'system-pod-13.2' 'cpu_pod_adservice'\n",
      " 'cpu_pod_cartservice' 'cpu_pod_checkoutservice' 'cpu_pod_currencyservice'\n",
      " 'cpu_pod_emailservice' 'cpu_pod_frontend' 'cpu_pod_loadgenerator'\n",
      " 'cpu_pod_loadgenerator.1' 'cpu_pod_paymentservice'\n",
      " 'cpu_pod_productcatalogservice' 'cpu_pod_recommendationservice'\n",
      " 'cpu_pod_redis' 'cpu_pod_shippingservice'\n",
      " 'one_pod_restart_{container=\"main\", instance=\"kube'\n",
      " 'one_pod_restart_{container=\"main\", instance=\"kube.1'\n",
      " 'one_pod_restart_{container=\"redis\", instance=\"kube'\n",
      " 'one_pod_restart_{container=\"server\", instance=\"kube'\n",
      " 'one_pod_restart_{container=\"server\", instance=\"kube.1'\n",
      " 'one_pod_restart_{container=\"server\", instance=\"kube.2'\n",
      " 'one_pod_restart_{container=\"server\", instance=\"kube.3'\n",
      " 'one_pod_restart_{container=\"server\", instance=\"kube.4'\n",
      " 'one_pod_restart_{container=\"server\", instance=\"kube.5'\n",
      " 'one_pod_restart_{container=\"server\", instance=\"kube.6'\n",
      " 'one_pod_restart_{container=\"server\", instance=\"kube.7'\n",
      " 'one_pod_restart_{container=\"server\", instance=\"kube.8'\n",
      " 'one_pod_restart_{container=\"server\", instance=\"kube.9'\n",
      " 'slower_pod_restart_{container=\"main\", instance=\"kube'\n",
      " 'slower_pod_restart_{container=\"redis\", instance=\"kube'\n",
      " 'slower_pod_restart_{container=\"server\", instance=\"kube'\n",
      " 'slower_pod_restart_{container=\"server\", instance=\"kube.2'\n",
      " 'slower_pod_restart_{container=\"server\", instance=\"kube.3'\n",
      " 'slower_pod_restart_{container=\"server\", instance=\"kube.4'\n",
      " 'slower_pod_restart_{container=\"server\", instance=\"kube.5'\n",
      " 'slower_pod_restart_{container=\"server\", instance=\"kube.6'\n",
      " 'slower_pod_restart_{container=\"server\", instance=\"kube.7'\n",
      " 'slower_pod_restart_{container=\"server\", instance=\"kube.8'\n",
      " 'slower_pod_restart_{container=\"server\", instance=\"kube.9'\n",
      " 'faster_pod_restart_{container=\"main\", instance=\"kube'\n",
      " 'faster_pod_restart_{container=\"redis\", instance=\"kube'\n",
      " 'faster_pod_restart_{container=\"server\", instance=\"kube'\n",
      " 'faster_pod_restart_{container=\"server\", instance=\"kube.2'\n",
      " 'faster_pod_restart_{container=\"server\", instance=\"kube.3'\n",
      " 'faster_pod_restart_{container=\"server\", instance=\"kube.4'\n",
      " 'faster_pod_restart_{container=\"server\", instance=\"kube.5'\n",
      " 'faster_pod_restart_{container=\"server\", instance=\"kube.6'\n",
      " 'faster_pod_restart_{container=\"server\", instance=\"kube.7'\n",
      " 'faster_pod_restart_{container=\"server\", instance=\"kube.8'\n",
      " 'faster_pod_restart_{container=\"server\", instance=\"kube.9'\n",
      " 'medium_pod_restart_{container=\"main\", instance=\"kube'\n",
      " 'medium_pod_restart_{container=\"main\", instance=\"kube.1'\n",
      " 'medium_pod_restart_{container=\"redis\", instance=\"kube'\n",
      " 'medium_pod_restart_{container=\"server\", instance=\"kube'\n",
      " 'medium_pod_restart_{container=\"server\", instance=\"kube.1'\n",
      " 'medium_pod_restart_{container=\"server\", instance=\"kube.2'\n",
      " 'medium_pod_restart_{container=\"server\", instance=\"kube.3'\n",
      " 'medium_pod_restart_{container=\"server\", instance=\"kube.4'\n",
      " 'medium_pod_restart_{container=\"server\", instance=\"kube.5'\n",
      " 'medium_pod_restart_{container=\"server\", instance=\"kube.6'\n",
      " 'medium_pod_restart_{container=\"server\", instance=\"kube.7'\n",
      " 'medium_pod_restart_{container=\"server\", instance=\"kube.8'\n",
      " 'medium_pod_restart_{container=\"server\", instance=\"kube.9'\n",
      " 'long_pod_restart_{container=\"main\", instance=\"kube'\n",
      " 'long_pod_restart_{container=\"main\", instance=\"kube.1'\n",
      " 'long_pod_restart_{container=\"redis\", instance=\"kube'\n",
      " 'long_pod_restart_{container=\"server\", instance=\"kube'\n",
      " 'long_pod_restart_{container=\"server\", instance=\"kube.1'\n",
      " 'long_pod_restart_{container=\"server\", instance=\"kube.2'\n",
      " 'long_pod_restart_{container=\"server\", instance=\"kube.3'\n",
      " 'long_pod_restart_{container=\"server\", instance=\"kube.4'\n",
      " 'long_pod_restart_{container=\"server\", instance=\"kube.5'\n",
      " 'long_pod_restart_{container=\"server\", instance=\"kube.6'\n",
      " 'long_pod_restart_{container=\"server\", instance=\"kube.7'\n",
      " 'long_pod_restart_{container=\"server\", instance=\"kube.8'\n",
      " 'long_pod_restart_{container=\"server\", instance=\"kube.9'\n",
      " 'pod_restart_{container=\"main\", instance=\"kube\"'\n",
      " 'pod_restart_{container=\"redis\", instance=\"kube\"'\n",
      " 'pod_restart_{container=\"server\", instance=\"kube\"'\n",
      " 'pod_restart_{container=\"server\", instance=\"kube.2\"'\n",
      " 'pod_restart_{container=\"server\", instance=\"kube.3\"'\n",
      " 'pod_restart_{container=\"server\", instance=\"kube.4\"'\n",
      " 'pod_restart_{container=\"server\", instance=\"kube.5\"'\n",
      " 'pod_restart_{container=\"server\", instance=\"kube.6\"'\n",
      " 'pod_restart_{container=\"server\", instance=\"kube.7\"'\n",
      " 'pod_restart_{container=\"server\", instance=\"kube.8\"'\n",
      " 'pod_restart_{container=\"server\", instance=\"kube.9\"'\n",
      " 'checkout_pod_restart_{container=\"main\", instance=\"kube'\n",
      " 'checkout_pod_restart_{container=\"redis\", instance=\"kube'\n",
      " 'checkout_pod_restart_{container=\"server\", instance=\"kube'\n",
      " 'checkout_pod_restart_{container=\"server\", instance=\"kube.2'\n",
      " 'checkout_pod_restart_{container=\"server\", instance=\"kube.3'\n",
      " 'checkout_pod_restart_{container=\"server\", instance=\"kube.4'\n",
      " 'checkout_pod_restart_{container=\"server\", instance=\"kube.5'\n",
      " 'checkout_pod_restart_{container=\"server\", instance=\"kube.6'\n",
      " 'checkout_pod_restart_{container=\"server\", instance=\"kube.7'\n",
      " 'checkout_pod_restart_{container=\"server\", instance=\"kube.8'\n",
      " 'checkout_pod_restart_{container=\"server\", instance=\"kube.9'\n",
      " 'cart_pod_restart_{container=\"main\", instance=\"kube'\n",
      " 'cart_pod_restart_{container=\"main\", instance=\"kube.2'\n",
      " 'cart_pod_restart_{container=\"redis\", instance=\"kube'\n",
      " 'cart_pod_restart_{container=\"server\", instance=\"kube'\n",
      " 'cart_pod_restart_{container=\"server\", instance=\"kube.2'\n",
      " 'cart_pod_restart_{container=\"server\", instance=\"kube.3'\n",
      " 'cart_pod_restart_{container=\"server\", instance=\"kube.4'\n",
      " 'cart_pod_restart_{container=\"server\", instance=\"kube.5'\n",
      " 'cart_pod_restart_{container=\"server\", instance=\"kube.6'\n",
      " 'cart_pod_restart_{container=\"server\", instance=\"kube.7'\n",
      " 'cart_pod_restart_{container=\"server\", instance=\"kube.8'\n",
      " 'cart_pod_restart_{container=\"server\", instance=\"kube.9']\n"
     ]
    }
   ],
   "source": [
    "sel = VarianceThreshold(threshold=(.8 * (1 - .8)))\n",
    "X_selected = sel.fit_transform(X)\n",
    "\n",
    "# Welche Features wurden behalten\n",
    "features_bool = sel.get_support()\n",
    "features = np.array(X.columns)\n",
    "print(\"Behaltene Features:\", features[features_bool])\n",
    "\n",
    "# Welche Features wurden entfernt\n",
    "print(\"Entfernte Features:\", features[~features_bool])"
   ]
  },
  {
   "cell_type": "markdown",
   "metadata": {},
   "source": [
    "## Recursive Feature Selection"
   ]
  },
  {
   "cell_type": "code",
   "execution_count": 12,
   "metadata": {},
   "outputs": [
    {
     "name": "stdout",
     "output_type": "stream",
     "text": [
      "Optimale Anzahl von Features : 87\n",
      "Ausgewählte Features: Index(['three_i_o_read', 'three_i_o_write', 'three_memory', 'system-pod-1',\n",
      "       'system-pod-2', 'system-pod-3', 'system-pod-4', 'system-pod-5',\n",
      "       'system-pod-6', 'system-pod-7', 'system-pod-8', 'system-pod-9',\n",
      "       'system-pod-10', 'system-pod-11', 'system-pod-12', 'system-pod-13',\n",
      "       'network_outgoing_system', 'system-pod-1.1', 'system-pod-2.1',\n",
      "       'system-pod-3.1', 'system-pod-4.1', 'system-pod-5.1', 'system-pod-6.1',\n",
      "       'system-pod-7.1', 'system-pod-8.1', 'system-pod-9.1', 'system-pod-10.1',\n",
      "       'system-pod-11.1', 'system-pod-12.1', 'system-pod-13.1', 'cpu_system',\n",
      "       'one_i_o_read', 'one_i_o_write', 'one_memory',\n",
      "       'network_outgoing_pod_adservice', 'network_outgoing_pod_cartservice',\n",
      "       'network_outgoing_pod_checkoutservice',\n",
      "       'network_outgoing_pod_currencyservice',\n",
      "       'network_outgoing_pod_emailservice', 'network_outgoing_pod_frontend',\n",
      "       'network_outgoing_pod_loadgenerator',\n",
      "       'network_outgoing_pod_loadgenerator.1',\n",
      "       'network_outgoing_pod_paymentservice',\n",
      "       'network_outgoing_pod_productcatalogservice',\n",
      "       'network_outgoing_pod_recommendationservice',\n",
      "       'network_outgoing_pod_redis', 'network_outgoing_pod_shippingservice',\n",
      "       'cpu_pod_adservice', 'cpu_pod_cartservice', 'cpu_pod_checkoutservice',\n",
      "       'cpu_pod_currencyservice', 'cpu_pod_emailservice', 'cpu_pod_frontend',\n",
      "       'cpu_pod_loadgenerator', 'cpu_pod_loadgenerator.1',\n",
      "       'cpu_pod_paymentservice', 'cpu_pod_productcatalogservice',\n",
      "       'cpu_pod_recommendationservice', 'cpu_pod_redis',\n",
      "       'cpu_pod_shippingservice',\n",
      "       'one_pod_restart_{container=\"server\", instance=\"kube.3', 'two_i_o_read',\n",
      "       'two_i_o_write', 'two_memory', 'slower_i_o_read', 'slower_i_o_write',\n",
      "       'slower_memory',\n",
      "       'slower_pod_restart_{container=\"server\", instance=\"kube.5',\n",
      "       'faster_i_o_read', 'faster_i_o_write', 'faster_memory',\n",
      "       'medium_i_o_read', 'medium_i_o_write', 'medium_memory', 'long_i_o_read',\n",
      "       'long_i_o_write', 'long_memory', 'high_low_i_o_read', 'high_low_memory',\n",
      "       'high_i_o_read', 'high_i_o_write', 'high_memory', 'low_i_o_write',\n",
      "       'low_memory', 'checkout_i_o_read', 'cart_i_o_read', 'cart_memory'],\n",
      "      dtype='object')\n"
     ]
    }
   ],
   "source": [
    "# Modell initialisieren\n",
    "estimator = DecisionTreeRegressor()\n",
    "\n",
    "\n",
    "# Feature Selection\n",
    "selector = RFECV(estimator, step=2, cv=3)\n",
    "selector = selector.fit(X_train, y_train)\n",
    "\n",
    "print(\"Optimale Anzahl von Features : %d\" % selector.n_features_)\n",
    "\n",
    "# Du kannst dann die ausgewählten Features anzeigen oder nutzen\n",
    "selected_features = X_train.columns[selector.support_]\n",
    "print(\"Ausgewählte Features:\", selected_features)\n",
    "# Identifiziere die nicht ausgewählten Features\n",
    "not_selected_features = X_train.columns[~selector.support_]\n",
    "print(\"Nicht ausgewählte Features:\", not_selected_features)"
   ]
  },
  {
   "cell_type": "code",
   "execution_count": null,
   "metadata": {},
   "outputs": [],
   "source": []
  },
  {
   "cell_type": "markdown",
   "metadata": {},
   "source": [
    "## Recursive feature selection"
   ]
  },
  {
   "cell_type": "code",
   "execution_count": null,
   "metadata": {},
   "outputs": [],
   "source": []
  }
 ],
 "metadata": {
  "kernelspec": {
   "display_name": "venv",
   "language": "python",
   "name": "python3"
  },
  "language_info": {
   "codemirror_mode": {
    "name": "ipython",
    "version": 3
   },
   "file_extension": ".py",
   "mimetype": "text/x-python",
   "name": "python",
   "nbconvert_exporter": "python",
   "pygments_lexer": "ipython3",
   "version": "3.12.3"
  }
 },
 "nbformat": 4,
 "nbformat_minor": 2
}
