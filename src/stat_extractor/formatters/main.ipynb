{
 "cells": [
  {
   "cell_type": "markdown",
   "metadata": {},
   "source": [
    "# Import Statements"
   ]
  },
  {
   "cell_type": "code",
   "execution_count": 5,
   "metadata": {},
   "outputs": [],
   "source": [
    "import pandas as pd\n",
    "import os\n",
    "from factories.formatter_factory import FormatterFactory\n",
    "from single_dim_formatter import SingleDimFormatter"
   ]
  },
  {
   "cell_type": "markdown",
   "metadata": {},
   "source": [
    "## Create instances"
   ]
  },
  {
   "cell_type": "code",
   "execution_count": 6,
   "metadata": {},
   "outputs": [],
   "source": [
    "formatter_factory = FormatterFactory()\n",
    "single_dim_formatter = SingleDimFormatter()"
   ]
  },
  {
   "cell_type": "markdown",
   "metadata": {},
   "source": [
    "## Read csv file"
   ]
  },
  {
   "cell_type": "code",
   "execution_count": 7,
   "metadata": {},
   "outputs": [
    {
     "name": "stdout",
     "output_type": "stream",
     "text": [
      "   cpu_system\n",
      "0     0.00518\n",
      "1     0.00516\n",
      "2     0.00518\n",
      "3     0.00501\n",
      "4     0.00507\n"
     ]
    }
   ],
   "source": [
    "csv_file_path = \"./../../../assets/grafana_stats/constant-load/long/cpu/system/file.csv\"\n",
    "\n",
    "df = formatter_factory.prepare_data(csv_file_path)\n",
    "\n",
    "print(df.head())"
   ]
  },
  {
   "cell_type": "markdown",
   "metadata": {},
   "source": [
    "## Merge all "
   ]
  },
  {
   "cell_type": "code",
   "execution_count": 8,
   "metadata": {},
   "outputs": [],
   "source": [
    "base_path = \"./../../../assets/grafana_stats/constant-load/long\""
   ]
  },
  {
   "cell_type": "code",
   "execution_count": 9,
   "metadata": {},
   "outputs": [
    {
     "name": "stdout",
     "output_type": "stream",
     "text": [
      "   long_i_o_read\n",
      "0              0\n",
      "1              0\n",
      "2              0\n",
      "3              0\n",
      "4              0\n",
      "   long_i_o_write\n",
      "0             400\n",
      "1             403\n",
      "2             403\n",
      "3             403\n",
      "4             403\n",
      "   long_memory\n",
      "0  12764622848\n",
      "1  12751368192\n",
      "2  12748492800\n",
      "3  12752961536\n",
      "4  12758626304\n",
      "   network_outgoing_system\n",
      "0                    17877\n",
      "1                    17753\n",
      "2                    17757\n",
      "3                    17684\n",
      "4                    18052\n",
      "   cpu_system\n",
      "0     0.00518\n",
      "1     0.00516\n",
      "2     0.00518\n",
      "3     0.00501\n",
      "4     0.00507\n",
      "   long_pod_restart\n",
      "0                 0\n",
      "1                 0\n",
      "2                 0\n",
      "3                 0\n",
      "4                 0\n"
     ]
    }
   ],
   "source": [
    "for root, dirs, files in os.walk(base_path):\n",
    "    for file in files:\n",
    "        file_path = os.path.join(root, file)\n",
    "        df = formatter_factory.prepare_data(file_path)"
   ]
  }
 ],
 "metadata": {
  "kernelspec": {
   "display_name": "venv",
   "language": "python",
   "name": "python3"
  },
  "language_info": {
   "codemirror_mode": {
    "name": "ipython",
    "version": 3
   },
   "file_extension": ".py",
   "mimetype": "text/x-python",
   "name": "python",
   "nbconvert_exporter": "python",
   "pygments_lexer": "ipython3",
   "version": "3.12.3"
  }
 },
 "nbformat": 4,
 "nbformat_minor": 2
}
